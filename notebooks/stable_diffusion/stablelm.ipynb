{
 "cells": [
  {
   "cell_type": "code",
   "execution_count": null,
   "id": "1767a908-0527-47bc-9670-59af022f93a8",
   "metadata": {},
   "outputs": [],
   "source": [
    "# https://huggingface.co/stabilityai/stablelm-2-1_6b\n",
    "import time\n",
    "from transformers import AutoModelForCausalLM, AutoTokenizer\n",
    "tokenizer = AutoTokenizer.from_pretrained(\"stabilityai/stablelm-2-1_6b\", trust_remote_code=True)"
   ]
  },
  {
   "cell_type": "code",
   "execution_count": null,
   "id": "8d3f9ca2-1d28-4950-9d5e-c45003849f50",
   "metadata": {},
   "outputs": [],
   "source": [
    "model = AutoModelForCausalLM.from_pretrained(\n",
    "  \"stabilityai/stablelm-2-1_6b\",\n",
    "  trust_remote_code=True,\n",
    "  torch_dtype=\"auto\",\n",
    ")\n",
    "#model.cuda()"
   ]
  },
  {
   "cell_type": "code",
   "execution_count": null,
   "id": "2fc03307-3867-419f-a391-f02eca93b878",
   "metadata": {},
   "outputs": [],
   "source": [
    "start = time.time()\n",
    "t = \"Qu'est ce que l'hyper-threading?\"\n",
    "tokens = model.generate(\n",
    "  **tokenizer(t, return_tensors=\"pt\").to(model.device),\n",
    "  max_new_tokens=64,\n",
    "  temperature=0.70,\n",
    "  top_p=0.95,\n",
    "  do_sample=True,\n",
    "  pad_token_id=tokenizer.eos_token_id,\n",
    ")\n",
    "print(tokenizer.decode(tokens[0], skip_special_tokens=True))\n",
    "print(f\"in {time.time()-start:.1f}s\")"
   ]
  },
  {
   "cell_type": "code",
   "execution_count": null,
   "id": "043f50ae-c36a-4c1e-9a3d-1479518d0c25",
   "metadata": {},
   "outputs": [],
   "source": []
  }
 ],
 "metadata": {
  "kernelspec": {
   "display_name": "Python 3 (ipykernel)",
   "language": "python",
   "name": "python3"
  },
  "language_info": {
   "codemirror_mode": {
    "name": "ipython",
    "version": 3
   },
   "file_extension": ".py",
   "mimetype": "text/x-python",
   "name": "python",
   "nbconvert_exporter": "python",
   "pygments_lexer": "ipython3",
   "version": "3.9.6"
  }
 },
 "nbformat": 4,
 "nbformat_minor": 5
}

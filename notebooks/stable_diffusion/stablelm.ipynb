{
 "cells": [
  {
   "cell_type": "code",
   "execution_count": null,
   "id": "1767a908-0527-47bc-9670-59af022f93a8",
   "metadata": {
    "tags": []
   },
   "outputs": [],
   "source": [
    "# https://huggingface.co/stabilityai/stablelm-2-1_6b\n",
    "import os\n",
    "import time\n",
    "import warnings\n",
    "\n",
    "import torch\n",
    "# https://huggingface.co/docs/transformers/model_doc/auto#transformers.AutoModelForCausalLM\n",
    "# https://huggingface.co/docs/transformers/model_doc/auto#transformers.AutoTokenizer\n",
    "from transformers import AutoModelForCausalLM, AutoTokenizer, TextStreamer\n",
    "\n",
    "# Instantiates Arcade100kTokenizer (not yet documented as of 2024-01-20)\n",
    "tokenizer = AutoTokenizer.from_pretrained(\"stabilityai/stablelm-2-1_6b\", trust_remote_code=True)\n",
    "# print(\"Using %s\" % tokenizer)"
   ]
  },
  {
   "cell_type": "code",
   "execution_count": null,
   "id": "8d3f9ca2-1d28-4950-9d5e-c45003849f50",
   "metadata": {
    "tags": []
   },
   "outputs": [],
   "source": [
    "# Instantiates StableLMEpochForCausalLM\n",
    "if torch.backends.mps.is_available():\n",
    "    print(\"Using MPS\")\n",
    "    model = AutoModelForCausalLM.from_pretrained(\"stabilityai/stablelm-2-1_6b\", trust_remote_code=True)\n",
    "    model = model.to(torch.device(\"mps\"))\n",
    "elif torch.cuda.is_available():\n",
    "    print(\"Using CUDA\")\n",
    "    model = AutoModelForCausalLM.from_pretrained(\n",
    "      \"stabilityai/stablelm-2-1_6b\",\n",
    "      trust_remote_code=True,\n",
    "      torch_dtype=\"auto\",\n",
    "    )\n",
    "    model.cuda()\n",
    "else:\n",
    "    # On Intel without a GPU, the cuda backend will spew errors and warnings.\n",
    "    os.environ[\"TF_CPP_MIN_LOG_LEVEL\"] = \"3\"\n",
    "    warnings.filterwarnings(\"ignore\")\n",
    "    model = AutoModelForCausalLM.from_pretrained(\"stabilityai/stablelm-2-1_6b\", trust_remote_code=True)\n",
    "    try:\n",
    "        import intel_extension_for_pytorch as ipex\n",
    "        model = ipex.optimize(model, dtype=torch.float32)  # bfloat16\n",
    "        print(\"Using Intel (accelerated)\")\n",
    "    except ImportError:\n",
    "        print(\"Using Intel (non-accelerated)\")\n",
    "        pass\n",
    "# print(\"Using %s\" % model)"
   ]
  },
  {
   "cell_type": "code",
   "execution_count": null,
   "id": "2fc03307-3867-419f-a391-f02eca93b878",
   "metadata": {
    "tags": []
   },
   "outputs": [],
   "source": [
    "input = \"Write a poem about the sky\"\n",
    "\n",
    "start = time.time()\n",
    "tokens = model.generate(\n",
    "  **tokenizer(input, return_tensors=\"pt\").to(model.device),\n",
    "  max_new_tokens=128,\n",
    "  temperature=0.70,\n",
    "  top_p=0.95,\n",
    "  do_sample=True,\n",
    "  streamer=TextStreamer(tokenizer, skip_prompt=True),\n",
    "  pad_token_id=tokenizer.eos_token_id,\n",
    ")\n",
    "decoded = tokenizer.decode(tokens[0], skip_special_tokens=True)\n",
    "words = len(decoded.split())\n",
    "duration = time.time()-start\n",
    "print(f\"Generated {words} words in {duration:.1f}s, {(words/duration):.1f} words/s\")"
   ]
  },
  {
   "cell_type": "code",
   "execution_count": null,
   "id": "043f50ae-c36a-4c1e-9a3d-1479518d0c25",
   "metadata": {},
   "outputs": [],
   "source": []
  }
 ],
 "metadata": {
  "kernelspec": {
   "display_name": "Python 3 (ipykernel)",
   "language": "python",
   "name": "python3"
  },
  "language_info": {
   "codemirror_mode": {
    "name": "ipython",
    "version": 3
   },
   "file_extension": ".py",
   "mimetype": "text/x-python",
   "name": "python",
   "nbconvert_exporter": "python",
   "pygments_lexer": "ipython3",
   "version": "3.11.7"
  }
 },
 "nbformat": 4,
 "nbformat_minor": 5
}

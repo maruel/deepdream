{
 "cells": [
  {
   "cell_type": "code",
   "execution_count": null,
   "id": "a8a84585-7f98-4e29-9733-9dac0affb43d",
   "metadata": {},
   "outputs": [],
   "source": [
    "# Run this when using on Google colab:\n",
    "print(\"Installing, please wait.\")\n",
    "!pip install --quiet accelerate diffusers transformers torch torchvision\n",
    "# Until v4.26.0 is out, requires:\n",
    "!pip install --upgrade git+https://github.com/huggingface/transformers\n",
    "# Sometimes, I may have to use bleeding edge:\n",
    "# !pip install -U git+https://github.com/huggingface/diffusers\n",
    "!git clone --quiet https://github.com/maruel/ml\n",
    "import sys\n",
    "sys.path.insert(0, \"/content/ml/notebooks/stable_diffusion\")\n",
    "import torch\n",
    "print(torch.cuda.get_device_name(0), \"%.2fGB\" % (torch.cuda.get_device_properties(0).total_memory/1024/1024/1024))"
   ]
  },
  {
   "cell_type": "code",
   "execution_count": null,
   "id": "63325381-3624-435d-b4ff-15f1fd5853cb",
   "metadata": {},
   "outputs": [],
   "source": [
    "import time\n",
    "\n",
    "import IPython\n",
    "import sdcommon\n",
    "import depth2img\n",
    "\n",
    "def run(save=True, **kwargs):\n",
    "    ml = depth2img.ML()\n",
    "    params = depth2img.Params(**kwargs)\n",
    "    start = time.time()\n",
    "    imgs, depth = ml.run(params, local_files_only=False)\n",
    "    print(\"Took %.1fs\" % (time.time()-start))\n",
    "    if save:\n",
    "      print(\"Saved as %s.png\" % sdcommon.save(ml, params, depth, *imgs)) \n",
    "    return imgs, depth\n",
    "\n",
    "imgs, depth = run(\n",
    "    imagename=\"out/txt2img00000.png\",\n",
    "    prompt=\"Christmas\",\n",
    "    neg_prompt=\"Disfigured. Too many fingers.\",\n",
    "    steps=50,\n",
    "    strength=0.4,\n",
    "    seed=16)\n",
    "\n",
    "IPython.display.display(depth)\n",
    "for i, img in enumerate(imgs):\n",
    "    IPython.display.display(img)"
   ]
  }
 ],
 "metadata": {
  "kernelspec": {
   "display_name": "Python 3 (ipykernel)",
   "language": "python",
   "name": "python3"
  },
  "language_info": {
   "codemirror_mode": {
    "name": "ipython",
    "version": 3
   },
   "file_extension": ".py",
   "mimetype": "text/x-python",
   "name": "python",
   "nbconvert_exporter": "python",
   "pygments_lexer": "ipython3",
   "version": "3.10.6"
  }
 },
 "nbformat": 4,
 "nbformat_minor": 5
}

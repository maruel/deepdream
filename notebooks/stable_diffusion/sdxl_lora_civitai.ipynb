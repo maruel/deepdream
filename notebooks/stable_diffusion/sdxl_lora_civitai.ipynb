{
 "cells": [
  {
   "cell_type": "code",
   "execution_count": null,
   "id": "d6363dda-fe67-485c-9875-0e7b9ea3a886",
   "metadata": {},
   "outputs": [],
   "source": [
    "# https://pjoshi15.com/merging-multiple-lora-models-python/\n",
    "import os\n",
    "import subprocess\n",
    "if not os.path.isfile(\"../../cache/papercut.safetensors\"):\n",
    "    subprocess.check_call(cwd=\"../../cache\", [\"curl\", \"-sSLOJ\", \"https://civitai.com/api/download/models/133503\"])\n",
    "    print(\"Downloaded papercut\")\n",
    "if not os.path.isfile(\"Aether_Beauty_v1_SDXL_LoRA.safetensors\"):\n",
    "    subprocess.check_call(cwd=\"../../cache\", [\"curl\", \"-sSLOJ\", \"https://civitai.com/api/download/models/335725?type=Model&format=SafeTensor\"])\n",
    "    print(\"Downloaded Aether_Beauty_v1_SDXL_LoRA.safetensors\")"
   ]
  },
  {
   "cell_type": "code",
   "execution_count": null,
   "id": "7427557e-abcd-4d98-bf1f-f13e85901430",
   "metadata": {},
   "outputs": [],
   "source": [
    "import time\n",
    "\n",
    "import accelerate\n",
    "import compel\n",
    "import diffusers\n",
    "import torch\n",
    "from IPython.display import display\n",
    "\n",
    "DEVICE = \"cuda\" if torch.cuda.is_available() else \"mps\" if torch.backends.mps.is_available() else \"cpu\"\n",
    "DTYPE = torch.float16 if DEVICE in (\"cuda\", \"mps\") else torch.float32\n",
    "print(f\"Using {DEVICE}\")\n",
    "\n",
    "def get_generator(seed):\n",
    "    if DEVICE in (\"cuda\", \"mps\"):\n",
    "        return torch.Generator(DEVICE).manual_seed(seed)\n",
    "    return torch.Generator().manual_seed(seed)\n",
    "\n",
    "with accelerate.init_empty_weights():\n",
    "    pipe = diffusers.DiffusionPipeline.from_pretrained(\"stabilityai/stable-diffusion-xl-base-1.0\", variant=\"fp16\")\n",
    "pipe.load_lora_weights(\"latent-consistency/lcm-lora-sdxl\")\n",
    "pipe.scheduler = diffusers.LCMScheduler.from_config(pipe.scheduler.config)\n",
    "_ = pipe.to(DEVICE, dtype=DTYPE)"
   ]
  },
  {
   "cell_type": "code",
   "execution_count": null,
   "id": "0a9607de-f5be-4d13-a727-52bf7c813b83",
   "metadata": {},
   "outputs": [],
   "source": [
    "image = pipe(\n",
    "    \"hiker, beautiful forest\",\n",
    "    num_inference_steps=4, guidance_scale=1,\n",
    "    generator=get_generator(0)).images[0]\n",
    "image"
   ]
  },
  {
   "cell_type": "code",
   "execution_count": null,
   "id": "477f8cc8-be7b-4e35-aa97-7194fb7f9373",
   "metadata": {},
   "outputs": [],
   "source": [
    "pipe.load_lora_weights(pretrained_model_name_or_path_or_dict=\"../../cache/papercut.safetensors\", adapter_name=\"papercut\")\n",
    "\n",
    "# Regulate contribution of LoRA model in image generation.\n",
    "lora_scale = 0.9\n",
    "\n",
    "image = pipe(\n",
    "    \"papercut, hiker, beautiful forest\",\n",
    "    num_inference_steps=4, guidance_scale=1,\n",
    "    cross_attention_kwargs={\"scale\": lora_scale}, \n",
    "    generator=get_generator(0)).images[0]\n",
    "\n",
    "image"
   ]
  },
  {
   "cell_type": "code",
   "execution_count": null,
   "id": "6b989c6a-4b6f-4af8-bab4-1e84dc9e8bc2",
   "metadata": {},
   "outputs": [],
   "source": [
    "# https://civitai.com/models/298913/aether-beauty-lora-for-sdxl\n",
    "# Fuse the papier one\n",
    "pipe.fuse_lora(lora_scale = 0.7)\n",
    "\n",
    "pipe.load_lora_weights(pretrained_model_name_or_path_or_dict=\"../../cache/Aether_Beauty_v1_SDXL_LoRA.safetensors\", adapter_name=\"aether\")\n",
    "pipe.fuse_lora(lora_scale = 0.7)\n",
    "\n",
    "pipe.set_adapters([\"papercut\", \"aether\"], adapter_weights=[1.0, 0.5])"
   ]
  },
  {
   "cell_type": "code",
   "execution_count": null,
   "id": "e3eaffaf-271a-47fa-ac3e-603d180fe005",
   "metadata": {},
   "outputs": [],
   "source": [
    "\n",
    "image = pipe(\n",
    "    prompt=\"papercut, big eyes, big teeth, photo, hiker, beautiful forest\",\n",
    "    num_inference_steps=4, guidance_scale=1,\n",
    "    cross_attention_kwargs={\"scale\": lora_scale}, \n",
    "    generator=get_generator(0)).images[0]\n",
    "\n",
    "image"
   ]
  },
  {
   "cell_type": "code",
   "execution_count": null,
   "id": "abd6eb20-3a3b-418f-a279-58a88ad62f9e",
   "metadata": {},
   "outputs": [],
   "source": []
  }
 ],
 "metadata": {
  "kernelspec": {
   "display_name": "Python 3 (ipykernel)",
   "language": "python",
   "name": "python3"
  },
  "language_info": {
   "codemirror_mode": {
    "name": "ipython",
    "version": 3
   },
   "file_extension": ".py",
   "mimetype": "text/x-python",
   "name": "python",
   "nbconvert_exporter": "python",
   "pygments_lexer": "ipython3",
   "version": "3.11.7"
  }
 },
 "nbformat": 4,
 "nbformat_minor": 5
}

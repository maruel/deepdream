{
 "cells": [
  {
   "cell_type": "code",
   "execution_count": null,
   "id": "2007e774-b467-49e0-803e-b20d9d010a52",
   "metadata": {},
   "outputs": [],
   "source": [
    "# depth2img generally gives better results.\n",
    "\n",
    "import gc\n",
    "import random\n",
    "import time\n",
    "\n",
    "import diffusers\n",
    "import torch\n",
    "import PIL\n",
    "\n",
    "DEVICE = \"cuda\" if torch.cuda.is_available() else \"mps\" if torch.backends.mps.is_available() else \"cpu\"\n",
    "DTYPE = torch.float16 if DEVICE in (\"cuda\", \"mps\") else torch.float32\n",
    "print(f\"Using {DEVICE}\")\n",
    "\n",
    "def get_generator(seed):\n",
    "    if DEVICE in (\"cuda\", \"mps\"):\n",
    "        return torch.Generator(DEVICE).manual_seed(seed)\n",
    "    generator = torch.Generator()\n",
    "    generator.manual_seed(seed)\n",
    "    return generator\n",
    "\n",
    "def load_pipe():\n",
    "    # There's no fp32 revision.\n",
    "    # https://huggingface.co/stabilityai/stable-diffusion-2-1/tree/main\n",
    "    # https://huggingface.co/stabilityai/stable-diffusion-2-1/resolve/fp16/model_index.json\n",
    "    pipe = diffusers.StableDiffusionImg2ImgPipeline.from_pretrained(\n",
    "        \"stabilityai/stable-diffusion-2-1\",\n",
    "        revision=\"fp16\",\n",
    "        torch_dtype=torch.float16 if use_cuda else torch.float32)\n",
    "    pipe.scheduler = diffusers.DPMSolverMultistepScheduler.from_pretrained(\n",
    "        \"stabilityai/stable-diffusion-2-1\", subfolder=\"scheduler\")\n",
    "    if DEVICE == \"cuda\":\n",
    "        pipe = pipe.to(DEVICE)\n",
    "        pipe.enable_model_cpu_offload()\n",
    "    elif DEVICE == \"mps\":\n",
    "        pipe = pipe.to(DEVICE)\n",
    "        pipe.enable_attention_slicing()\n",
    "    return pipe"
   ]
  },
  {
   "cell_type": "code",
   "execution_count": null,
   "id": "b1506d18-377c-4424-a9ae-be7a10650b43",
   "metadata": {},
   "outputs": [],
   "source": [
    "pipe = load_pipe()"
   ]
  },
  {
   "cell_type": "code",
   "execution_count": null,
   "id": "63da8a72-53ce-44c4-961d-ab233fe2ee63",
   "metadata": {},
   "outputs": [],
   "source": [
    "def inference(prompt, n_images, guidance, steps, width, height, seed, img, strength, neg_prompt):\n",
    "    ratio = min(height / img.height, width / img.width)\n",
    "    img = img.resize(\n",
    "        (int(img.width * ratio), int(img.height * ratio)), PIL.Image.Resampling.LANCZOS)\n",
    "    return pipe(\n",
    "        prompt,\n",
    "        num_images_per_prompt=n_images,\n",
    "        negative_prompt=neg_prompt,\n",
    "        image=img,\n",
    "        num_inference_steps=steps,\n",
    "        strength=strength,\n",
    "        guidance_scale=guidance,\n",
    "        # width=width,\n",
    "        # height=height,\n",
    "        generator=get_generator(seed)).images\n",
    "\n",
    "def run(prompt, image, strength, seed=11):\n",
    "    # seed = random.randint(0, 2147483647)\n",
    "    #strength = 0.60 # [0, 1]\n",
    "    n_images = 1 # number of images\n",
    "    neg_prompt = \"\"\n",
    "    guidance = 7.5 # 7.5 max = 15\n",
    "    steps = 25 # [2, 100]\n",
    "    width = 768  # [64, 1024] step=8\n",
    "    height = 768 # [64, 1024] step=8\n",
    "    start = time.time()\n",
    "    gallery = inference(prompt, n_images, guidance, steps, width, height, seed, image, strength, neg_prompt)\n",
    "    print(\"Took %.1fs\" % (time.time()-start))\n",
    "    return gallery[0]"
   ]
  },
  {
   "cell_type": "code",
   "execution_count": null,
   "id": "d1adf0ee-406a-4277-a8ef-257dfbdab1d4",
   "metadata": {},
   "outputs": [],
   "source": [
    "def getimg():\n",
    "    name = \"teckel.webp\"\n",
    "    img = PIL.Image.open(\"out/\" + name)\n",
    "    size = img.size\n",
    "    # Max is 1024x768 or 768x1024?\n",
    "    while size[0] > 1024 or size[1] > 1024: # or size[0] * size[1] > 786432:\n",
    "        size = (size[0]//2, size[1]//2)\n",
    "    size = (768, 768)\n",
    "    if size != img.size:\n",
    "        print(\"Resized from\", img.size, \"to\", size)\n",
    "        img = img.resize(size, PIL.Image.Resampling.LANCZOS)\n",
    "    return img\n",
    "\n",
    "#p = \"a killer robot\"\n",
    "#p = \"comic book, marvel, superflat, dc comics, graphic novel\"\n",
    "p = \"flowers\"\n",
    "img = run(p, getimg(), strength=0.75, seed=65)\n",
    "img.save(\"out/comic_book.png\")\n",
    "img"
   ]
  },
  {
   "cell_type": "code",
   "execution_count": null,
   "id": "4f422735-fdb6-41a9-8b1d-0330b4500584",
   "metadata": {},
   "outputs": [],
   "source": []
  }
 ],
 "metadata": {
  "kernelspec": {
   "display_name": "Python 3 (ipykernel)",
   "language": "python",
   "name": "python3"
  },
  "language_info": {
   "codemirror_mode": {
    "name": "ipython",
    "version": 3
   },
   "file_extension": ".py",
   "mimetype": "text/x-python",
   "name": "python",
   "nbconvert_exporter": "python",
   "pygments_lexer": "ipython3",
   "version": "3.11.8"
  }
 },
 "nbformat": 4,
 "nbformat_minor": 5
}

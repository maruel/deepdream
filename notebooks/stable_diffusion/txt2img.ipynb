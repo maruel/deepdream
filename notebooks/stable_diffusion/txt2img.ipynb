{
 "cells": [
  {
   "cell_type": "code",
   "execution_count": null,
   "id": "69c97de8-06d6-49da-9e6d-dfdb715a0e6f",
   "metadata": {},
   "outputs": [],
   "source": [
    "import random\n",
    "import time\n",
    "\n",
    "import diffusers\n",
    "import torch\n",
    "\n",
    "# To test performance delta.\n",
    "use_cuda = torch.cuda.is_available()\n",
    "\n",
    "def inference(prompt, n_images, guidance, steps, width, height, seed, neg_prompt):\n",
    "    generator = None\n",
    "    if use_cuda:\n",
    "        generator = torch.Generator(\"cuda\").manual_seed(seed) if seed else None\n",
    "    elif seed:      \n",
    "        generator = torch.Generator()\n",
    "        generator.manual_seed(seed)\n",
    "    # There's no fp32 revision.\n",
    "    # https://huggingface.co/stabilityai/stable-diffusion-2-1/tree/main\n",
    "    # https://huggingface.co/stabilityai/stable-diffusion-2-1/resolve/fp16/model_index.json\n",
    "    pipe = diffusers.StableDiffusionPipeline.from_pretrained(\n",
    "        \"stabilityai/stable-diffusion-2-1\",\n",
    "        revision=\"fp16\",\n",
    "        torch_dtype=torch.float16 if use_cuda else torch.float32)\n",
    "    pipe.scheduler = diffusers.DPMSolverMultistepScheduler.from_pretrained(\n",
    "        \"stabilityai/stable-diffusion-2-1\", subfolder=\"scheduler\")\n",
    "    if use_cuda:\n",
    "        pipe = pipe.to(\"cuda\")\n",
    "        pipe.enable_attention_slicing()\n",
    "    return pipe(\n",
    "        prompt,\n",
    "        num_images_per_prompt=n_images,\n",
    "        negative_prompt=neg_prompt,\n",
    "        num_inference_steps=steps,\n",
    "        guidance_scale=guidance,\n",
    "        width=width,\n",
    "        height=height,\n",
    "        generator=generator).images\n",
    "\n",
    "def run(prompt):\n",
    "    n_images = 1 # number of images\n",
    "    neg_prompt = \"\"\n",
    "    guidance = 7.5 # max = 15\n",
    "    steps = 25 # [2, 100]\n",
    "    width = 768  # [64, 1024] step=8\n",
    "    height = 768 # [64, 1024] step=8\n",
    "    seed = 10 # random\n",
    "    #seed = random.randint(0, 2147483647)\n",
    "\n",
    "    print(f\"Seed: {seed}\")\n",
    "    start = time.time()\n",
    "    gallery = inference(prompt, n_images, guidance, steps, width, height, seed, neg_prompt)\n",
    "    print(\"Took %.1fs\" % (time.time()-start))\n",
    "    return gallery[0]\n",
    "\n",
    "img = run(\"a squirrel cat hybrid\")\n",
    "img.save(\"out/squicat4.png\")\n",
    "img"
   ]
  },
  {
   "cell_type": "code",
   "execution_count": null,
   "id": "7e2bcb18-c5c8-4b10-b337-208dc11fb793",
   "metadata": {},
   "outputs": [],
   "source": []
  }
 ],
 "metadata": {
  "kernelspec": {
   "display_name": "Python 3 (ipykernel)",
   "language": "python",
   "name": "python3"
  },
  "language_info": {
   "codemirror_mode": {
    "name": "ipython",
    "version": 3
   },
   "file_extension": ".py",
   "mimetype": "text/x-python",
   "name": "python",
   "nbconvert_exporter": "python",
   "pygments_lexer": "ipython3",
   "version": "3.10.6"
  }
 },
 "nbformat": 4,
 "nbformat_minor": 5
}

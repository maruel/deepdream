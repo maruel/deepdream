{
 "cells": [
  {
   "cell_type": "code",
   "execution_count": null,
   "id": "2cf0de30-ef0b-4046-ae0f-6f45f343c00c",
   "metadata": {},
   "outputs": [],
   "source": [
    "import sys\n",
    "if 'google.colab' in sys.modules:\n",
    "    print(\"Mounting Google Drive\")\n",
    "    from google.colab import drive\n",
    "    drive.mount('/content/drive')\n",
    "    print(\"Installing, please wait.\")\n",
    "    !pip install --quiet accelerate diffusers transformers torch torchvision\n",
    "    # Sometimes, I may have to use bleeding edge:\n",
    "    # !pip install --upgrade git+https://github.com/huggingface/transformers\n",
    "    # Sometimes, I may have to use bleeding edge:\n",
    "    # !pip install -U git+https://github.com/huggingface/diffusers\n",
    "    !git clone --quiet https://github.com/maruel/ml\n",
    "    sys.path.insert(0, \"/content/ml/notebooks/stable_diffusion\")\n",
    "import torch\n",
    "print(torch.cuda.get_device_name(0), \"/ %.2fGB\" % (torch.cuda.get_device_properties(0).total_memory/1024/1024/1024))"
   ]
  },
  {
   "cell_type": "code",
   "execution_count": null,
   "id": "69c97de8-06d6-49da-9e6d-dfdb715a0e6f",
   "metadata": {},
   "outputs": [],
   "source": [
    "import time\n",
    "\n",
    "import IPython\n",
    "import ipyplot\n",
    "import sdcommon\n",
    "import txt2img\n",
    "\n",
    "def run(**kwargs):\n",
    "    ml = txt2img.ML()\n",
    "    params = txt2img.Params(**kwargs)\n",
    "    start = time.time()\n",
    "    imgs, _ = ml.run(params, local_files_only=False)\n",
    "    print(\"Took %.1fs\" % (time.time()-start))\n",
    "    print(\"Saved as %s.png\" % sdcommon.save(ml, params, *imgs))\n",
    "    return imgs\n",
    "\n",
    "def loop(**kwargs):\n",
    "    out = []\n",
    "    iterations = sdcommon.unroll(**kwargs)\n",
    "    print(\"Doing %d iterations\" % len(iterations))\n",
    "    for label, line in iterations:\n",
    "        img = run(**line)[0]\n",
    "        out.append((label, img))\n",
    "        print(label)\n",
    "        IPython.display.display(img)\n",
    "    return out\n",
    "\n",
    "out = loop(\n",
    "    #prompt = \"a squirrel cat hybrid\"\n",
    "    #prompt = \"Old man making clockwork children toys in his workshop. Happy place. Holidays.\"\n",
    "    prompt=\"Border collie doing cross country skiing\",\n",
    "    neg_prompt=\"human man woman\",\n",
    "    seed=range(7, 9),\n",
    "    steps=50)"
   ]
  },
  {
   "cell_type": "code",
   "execution_count": null,
   "id": "71b117cb-25a1-4c55-8c1e-4c1555d28e53",
   "metadata": {},
   "outputs": [],
   "source": [
    "ipyplot.plot_images([i[1] for i in out], [i[0] for i in out], img_width=200)"
   ]
  }
 ],
 "metadata": {
  "kernelspec": {
   "display_name": "Python 3 (ipykernel)",
   "language": "python",
   "name": "python3"
  },
  "language_info": {
   "codemirror_mode": {
    "name": "ipython",
    "version": 3
   },
   "file_extension": ".py",
   "mimetype": "text/x-python",
   "name": "python",
   "nbconvert_exporter": "python",
   "pygments_lexer": "ipython3",
   "version": "3.10.6"
  }
 },
 "nbformat": 4,
 "nbformat_minor": 5
}

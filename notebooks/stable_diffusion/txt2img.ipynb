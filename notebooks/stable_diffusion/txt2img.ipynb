{
 "cells": [
  {
   "cell_type": "code",
   "execution_count": null,
   "id": "69c97de8-06d6-49da-9e6d-dfdb715a0e6f",
   "metadata": {},
   "outputs": [],
   "source": [
    "import time\n",
    "\n",
    "import sdcommon\n",
    "import txt2img\n",
    "\n",
    "def run(**kwargs):\n",
    "    ml = txt2img.ML()\n",
    "    params = txt2img.Params(**kwargs)\n",
    "    start = time.time()\n",
    "    img, _ = ml.run(params) #, local_files_only=False)\n",
    "    print(\"Took %.1fs\" % (time.time()-start))\n",
    "    print(\"Saved as %s.png\" % sdcommon.save(ml, params, img[0]))\n",
    "    return img[0]\n",
    "\n",
    "prompt = \"a squirrel cat hybrid\"\n",
    "prompt = \"Old man making clockwork children toys in his workshop. Happy place. Holidays.\"\n",
    "img = run(prompt=prompt, steps=25)\n",
    "img"
   ]
  }
 ],
 "metadata": {
  "kernelspec": {
   "display_name": "Python 3 (ipykernel)",
   "language": "python",
   "name": "python3"
  },
  "language_info": {
   "codemirror_mode": {
    "name": "ipython",
    "version": 3
   },
   "file_extension": ".py",
   "mimetype": "text/x-python",
   "name": "python",
   "nbconvert_exporter": "python",
   "pygments_lexer": "ipython3",
   "version": "3.10.6"
  }
 },
 "nbformat": 4,
 "nbformat_minor": 5
}

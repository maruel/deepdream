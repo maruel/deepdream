{
 "cells": [
  {
   "cell_type": "code",
   "execution_count": null,
   "id": "e85ad1c7-2ccc-415d-b56c-de0adc189cd3",
   "metadata": {},
   "outputs": [],
   "source": [
    "# https://huggingface.co/docs/diffusers/using-diffusers/inference_with_lcm_lora#animatediff\n",
    "# https://huggingface.co/docs/diffusers/api/pipelines/animatediff\n",
    "# Must install peft\n",
    "\n",
    "import datetime\n",
    "import time\n",
    "import torch\n",
    "from diffusers import MotionAdapter, AnimateDiffPipeline, DDIMScheduler, LCMScheduler\n",
    "from diffusers.utils import export_to_gif\n",
    "from IPython.display import display\n",
    "\n",
    "# diffusers\n",
    "#pipe = AnimateDiffPipeline.from_pretrained(\n",
    "#    \"frankjoshua/toonyou_beta6\",\n",
    "#    motion_adapter=MotionAdapter.from_pretrained(\"guoyww/animatediff-motion-adapter-v1-5-2\"),\n",
    "#).to(\"mps\")\n",
    "\n",
    "# load SD 1.5 based finetuned model\n",
    "model_id = \"SG161222/Realistic_Vision_V5.1_noVAE\"\n",
    "#model_id = \"frankjoshua/toonyou_beta6\"\n",
    "#model_id = \"runwayml/stable-diffusion-v1-5\"\n",
    "pipe = AnimateDiffPipeline.from_pretrained(\n",
    "    model_id, motion_adapter=MotionAdapter.from_pretrained(\"guoyww/animatediff-motion-adapter-v1-5-2\"))\n",
    "#pipe.scheduler = DDIMScheduler.from_pretrained(model_id, subfolder=\"scheduler\", clip_sample=False, timestep_spacing=\"linspace\", steps_offset=1)\n",
    "pipe.scheduler = LCMScheduler.from_config(pipe.scheduler.config)\n",
    "pipe.load_lora_weights(\"latent-consistency/lcm-lora-sdv1-5\", adapter_name=\"lcm\")\n",
    "pipe.load_lora_weights(\"guoyww/animatediff-motion-lora-zoom-in\", weight_name=\"diffusion_pytorch_model.safetensors\", adapter_name=\"motion-lora\")\n",
    "pipe.set_adapters([\"lcm\", \"motion-lora\"], adapter_weights=[0.55, 1.2])\n",
    "if torch.backends.mps.is_available():\n",
    "    pipe.to(device=\"mps\", dtype=torch.float16)\n",
    "    print(\"Using MPS\")\n",
    "elif torch.cuda.is_available():\n",
    "    torch.backends.cuda.matmul.allow_tf32 = True\n",
    "    pipe.to(device=\"cuda\", dtype=torch.float16)\n",
    "    print(\"Using CUDA\")\n",
    "else:\n",
    "    print(\"Loaded\")"
   ]
  },
  {
   "cell_type": "code",
   "execution_count": null,
   "id": "fc49875a-94f9-418b-9b82-6531646f8a4e",
   "metadata": {},
   "outputs": [],
   "source": [
    "#prompt = \"best quality, masterpiece, 1girl, looking at viewer, blurry background, upper body, contemporary, dress\"\n",
    "#prompt = \"world strongest man\"\n",
    "prompt = \"climbing gym\"\n",
    "start = time.time()\n",
    "generator = torch.Generator(\"mps\").manual_seed(1) #torch.manual_seed(0)\n",
    "frames = pipe(\n",
    "    prompt=prompt,\n",
    "    num_inference_steps=8,\n",
    "    guidance_scale=1.25,\n",
    "    cross_attention_kwargs={\"scale\": 1},\n",
    "    num_frames=6,\n",
    "    generator=generator\n",
    ").frames[0]\n",
    "print(f\"Generated in {time.time()-start:.1f}s\")"
   ]
  },
  {
   "cell_type": "code",
   "execution_count": null,
   "id": "d76dcb73-2b4d-41ec-b28a-f67996213bfc",
   "metadata": {},
   "outputs": [],
   "source": [
    "now = str(datetime.datetime.now().replace(microsecond=0)).replace(\" \", \"-\").replace(\":\", \"-\")\n",
    "_ = export_to_gif(frames, f\"out/animation-{now}.gif\")"
   ]
  },
  {
   "cell_type": "code",
   "execution_count": null,
   "id": "f6a0ccca-cb2d-4b30-adbf-14b28a5e5768",
   "metadata": {},
   "outputs": [],
   "source": []
  }
 ],
 "metadata": {
  "kernelspec": {
   "display_name": "Python 3 (ipykernel)",
   "language": "python",
   "name": "python3"
  },
  "language_info": {
   "codemirror_mode": {
    "name": "ipython",
    "version": 3
   },
   "file_extension": ".py",
   "mimetype": "text/x-python",
   "name": "python",
   "nbconvert_exporter": "python",
   "pygments_lexer": "ipython3",
   "version": "3.11.7"
  }
 },
 "nbformat": 4,
 "nbformat_minor": 5
}

{
 "cells": [
  {
   "cell_type": "code",
   "execution_count": null,
   "id": "bd5ef157-8802-4c1e-9252-8647e0a04c60",
   "metadata": {},
   "outputs": [],
   "source": [
    "import sys\n",
    "if 'google.colab' in sys.modules:\n",
    "    print(\"Mounting Google Drive\")\n",
    "    from google.colab import drive\n",
    "    drive.mount('/content/drive')\n",
    "    print(\"Installing, please wait.\")\n",
    "    !pip install --quiet accelerate diffusers torch torchvision\n",
    "    # Until v4.26.0 is out, requires:\n",
    "    !pip install --quiet --upgrade git+https://github.com/huggingface/transformers\n",
    "    # Sometimes, I may have to use bleeding edge:\n",
    "    # !pip install --quiet --upgrade git+https://github.com/huggingface/diffusers\n",
    "    !git clone --quiet https://github.com/maruel/ml\n",
    "    sys.path.insert(0, \"/content/ml/notebooks/stable_diffusion\")\n",
    "import torch\n",
    "print(torch.cuda.get_device_name(0), \"/ %.2fGB\" % (torch.cuda.get_device_properties(0).total_memory/1024/1024/1024))"
   ]
  },
  {
   "cell_type": "code",
   "execution_count": null,
   "id": "29622322-3518-4858-97c8-7ce47c7b22c7",
   "metadata": {},
   "outputs": [],
   "source": [
    "import sys\n",
    "if 'google.colab' in sys.modules:\n",
    "    print(\"Backing up\")\n",
    "    !mkdir \"/content/drive/MyDrive/Colab Notebooks/out\"\n",
    "    !cp -r /content/out/*.* \"/content/drive/MyDrive/Colab Notebooks/out\""
   ]
  }
 ],
 "metadata": {
  "kernelspec": {
   "display_name": "Python 3 (ipykernel)",
   "language": "python",
   "name": "python3"
  },
  "language_info": {
   "codemirror_mode": {
    "name": "ipython",
    "version": 3
   },
   "file_extension": ".py",
   "mimetype": "text/x-python",
   "name": "python",
   "nbconvert_exporter": "python",
   "pygments_lexer": "ipython3",
   "version": "3.10.6"
  }
 },
 "nbformat": 4,
 "nbformat_minor": 5
}

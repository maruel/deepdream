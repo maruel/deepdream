{
 "cells": [
  {
   "cell_type": "code",
   "execution_count": null,
   "id": "ca72a9dc-0f96-402f-874e-09ce0455298b",
   "metadata": {},
   "outputs": [],
   "source": [
    "# https://huggingface.co/blog/lcm_lora\n",
    "import datetime\n",
    "import os\n",
    "import time\n",
    "import warnings\n",
    "\n",
    "# On Intel without a GPU, the cuda backend will spew errors and warnings.\n",
    "os.environ[\"TF_CPP_MIN_LOG_LEVEL\"] = \"3\"\n",
    "warnings.filterwarnings(\"ignore\")\n",
    "\n",
    "from diffusers import DiffusionPipeline, LCMScheduler\n",
    "import ipyplot\n",
    "import torch\n",
    "from IPython.display import display\n",
    "\n",
    "pipe = DiffusionPipeline.from_pretrained(\"stabilityai/stable-diffusion-xl-base-1.0\", variant=\"fp16\")\n",
    "pipe.load_lora_weights(\"latent-consistency/lcm-lora-sdxl\")\n",
    "pipe.scheduler = LCMScheduler.from_config(pipe.scheduler.config)\n",
    "if torch.backends.mps.is_available():\n",
    "    pipe.to(device=\"mps\", dtype=torch.float16)\n",
    "    print(\"Using MPS\")\n",
    "elif torch.cuda.is_available():\n",
    "    torch.backends.cuda.matmul.allow_tf32 = True\n",
    "    pipe.to(device=\"cuda\", dtype=torch.float16)\n",
    "    print(\"Using CUDA\")\n",
    "else:\n",
    "    try:\n",
    "        # Interestingly I see no performance improvement at all.\n",
    "        import intel_extension_for_pytorch as ipex\n",
    "        t = torch.float # bfloat16\n",
    "        pipe.unet = ipex.optimize(pipe.unet.eval(), dtype=t, inplace=True)\n",
    "        pipe.vae = ipex.optimize(pipe.vae.eval(), dtype=t, inplace=True)\n",
    "        pipe.text_encoder = ipex.optimize(pipe.text_encoder.eval(), dtype=t, inplace=True)\n",
    "        print(\"Using Intel (accelerated)\")\n",
    "    except ImportError:\n",
    "        print(\"Using CPU (non-accelerated)\")\n",
    "        pass\n",
    "\n",
    "def get_generator(seed):\n",
    "    if torch.backends.mps.is_available():\n",
    "        return torch.Generator(\"mps\").manual_seed(seed)\n",
    "    if torch.cuda.is_available():\n",
    "        return torch.Generator(\"cuda\").manual_seed(seed)\n",
    "    generator = torch.Generator()\n",
    "    generator.manual_seed(seed)\n",
    "    return generator"
   ]
  },
  {
   "cell_type": "code",
   "execution_count": null,
   "id": "6efe6785-2d41-4c8f-a59c-1cbc7a210c84",
   "metadata": {},
   "outputs": [],
   "source": [
    "#prompt = \"close-up photography of old man standing in the rain at night, in a street lit by lamps, leica 35mm summilux\"\n",
    "#prompt = \"scene from the 1979 dystopian action film Mad Max, 35mm Eastmancolor\"\n",
    "prompt = \"fireplace, warm cozy book shelf candle snow mountain window sofa rustic\"\n",
    "seed = 30\n",
    "\n",
    "start = time.time()\n",
    "img = pipe(prompt=prompt, num_inference_steps=4,\n",
    "    guidance_scale=1, generator=get_generator(seed)).images[0]\n",
    "print(f\"Inference in {time.time()-start:.1f}s\")\n",
    "display(img)"
   ]
  },
  {
   "cell_type": "code",
   "execution_count": null,
   "id": "d77d9fe4-1c07-4795-90d7-84077d5f3e91",
   "metadata": {},
   "outputs": [],
   "source": [
    "now = str(datetime.datetime.now().replace(microsecond=0)).replace(\" \", \"-\").replace(\":\", \"-\")\n",
    "img.save(f\"out/sdxl_lcm_lora-{now}.png\")"
   ]
  }
 ],
 "metadata": {
  "kernelspec": {
   "display_name": "Python 3 (ipykernel)",
   "language": "python",
   "name": "python3"
  },
  "language_info": {
   "codemirror_mode": {
    "name": "ipython",
    "version": 3
   },
   "file_extension": ".py",
   "mimetype": "text/x-python",
   "name": "python",
   "nbconvert_exporter": "python",
   "pygments_lexer": "ipython3",
   "version": "3.11.7"
  }
 },
 "nbformat": 4,
 "nbformat_minor": 5
}

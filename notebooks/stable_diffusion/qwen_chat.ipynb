{
 "cells": [
  {
   "cell_type": "code",
   "execution_count": null,
   "id": "5bb72ba6-4b37-42f7-a2e3-1fd2e30224d1",
   "metadata": {},
   "outputs": [],
   "source": [
    "# https://huggingface.co/Qwen/Qwen-1_8B-Chat\n",
    "from transformers import AutoModelForCausalLM, AutoTokenizer\n",
    "from transformers.generation import GenerationConfig\n",
    "\n",
    "# This is broken because it imports SampleOutput from transformers which do not\n",
    "# exist anymore. This is subsummed by streamer argument when running.\n",
    "# Shrug.\n",
    "import transformers_stream_generator\n",
    "\n",
    "model_id = \"Qwen/Qwen-1_8B-Chat\"\n",
    "tokenizer = AutoTokenizer.from_pretrained(model_id, trust_remote_code=True)\n",
    "\n",
    "# use bf16\n",
    "# model = AutoModelForCausalLM.from_pretrained(model_id, device_map=\"auto\", trust_remote_code=True, bf16=True).eval()\n",
    "# use fp16\n",
    "# model = AutoModelForCausalLM.from_pretrained(model_id, device_map=\"auto\", trust_remote_code=True, fp16=True).eval()\n",
    "# use cpu only\n",
    "model = AutoModelForCausalLM.from_pretrained(model_id, device_map=\"cpu\", trust_remote_code=True).eval()\n",
    "# use auto mode, automatically select precision based on the device.\n",
    "#model = AutoModelForCausalLM.from_pretrained(model_id, device_map=\"auto\", trust_remote_code=True).eval()\n",
    "\n",
    "# Specify hyperparameters for generation. But if you use transformers>=4.32.0, there is no need to do this.\n",
    "# model.generation_config = GenerationConfig.from_pretrained(model_id, trust_remote_code=True) # 可指定不同的生成长度、top_p等相关超参"
   ]
  },
  {
   "cell_type": "code",
   "execution_count": null,
   "id": "43960182-be9f-447b-882f-ebddf60480e9",
   "metadata": {},
   "outputs": [],
   "source": [
    "history = None\n",
    "for _ in range(3):\n",
    "    print(\"Type text:\")\n",
    "    i = input()\n",
    "    response, history = model.chat(tokenizer, i, history=history, system=\"You will write beautiful compliments according to needs\")\n",
    "    print(response)"
   ]
  }
 ],
 "metadata": {
  "kernelspec": {
   "display_name": "Python 3 (ipykernel)",
   "language": "python",
   "name": "python3"
  },
  "language_info": {
   "codemirror_mode": {
    "name": "ipython",
    "version": 3
   },
   "file_extension": ".py",
   "mimetype": "text/x-python",
   "name": "python",
   "nbconvert_exporter": "python",
   "pygments_lexer": "ipython3",
   "version": "3.10.12"
  }
 },
 "nbformat": 4,
 "nbformat_minor": 5
}

{
 "cells": [
  {
   "cell_type": "code",
   "execution_count": null,
   "id": "58a33da6-d3ec-48a3-bf1e-60c836984b90",
   "metadata": {},
   "outputs": [],
   "source": [
    "# Not started yet.\n",
    "\n",
    "# https://huggingface.co/docs/diffusers/training/dreambooth\n",
    "# https://huggingface.co/spaces/multimodalart/dreambooth-training/tree/main\n",
    "# https://github.com/ShivamShrirao/diffusers/tree/main/examples/dreambooth\n",
    "# Ideas? https://stableboost.ai/home?sidebarModelsFilter=32&tab=1\n",
    "\n",
    "#export MODEL_NAME=\"CompVis/stable-diffusion-v1-4\"\n",
    "#export INSTANCE_DIR=\"path_to_training_images\"\n",
    "#export CLASS_DIR=\"path_to_class_images\"\n",
    "#export OUTPUT_DIR=\"path_to_saved_model\"\n",
    "\n",
    "#accelerate launch --mixed_precision=\"fp16\" train_dreambooth.py \\\n",
    "#  --pretrained_model_name_or_path=$MODEL_NAME \\\n",
    "#  --instance_data_dir=$INSTANCE_DIR \\\n",
    "#  --class_data_dir=$CLASS_DIR \\\n",
    "#  --output_dir=$OUTPUT_DIR \\\n",
    "#  --with_prior_preservation --prior_loss_weight=1.0 \\\n",
    "#  --instance_prompt=\"a photo of sks dog\" \\\n",
    "#  --class_prompt=\"a photo of dog\" \\\n",
    "#  --resolution=512 \\\n",
    "#  --train_batch_size=1 \\\n",
    "#  --sample_batch_size=1 \\\n",
    "#  --gradient_accumulation_steps=1 --gradient_checkpointing \\\n",
    "#  --learning_rate=5e-6 \\\n",
    "#  --lr_scheduler=\"constant\" \\\n",
    "#  --lr_warmup_steps=0 \\\n",
    "#  --num_class_images=200 \\\n",
    "#  --max_train_steps=800\n",
    "\n",
    "\n",
    "#accelerate launch train_dreambooth.py \\\n",
    "#  --pretrained_model_name_or_path=$MODEL_NAME \\\n",
    "#  --instance_data_dir=$INSTANCE_DIR \\\n",
    "#  --class_data_dir=$CLASS_DIR \\\n",
    "#  --output_dir=$OUTPUT_DIR \\\n",
    "#  --with_prior_preservation --prior_loss_weight=1.0 \\\n",
    "#  --instance_prompt=\"a photo of sks dog\" \\\n",
    "#  --class_prompt=\"a photo of dog\" \\\n",
    "#  --resolution=512 \\\n",
    "#  --train_batch_size=1 \\\n",
    "#  --sample_batch_size=1 \\\n",
    "#  --gradient_accumulation_steps=1 --gradient_checkpointing \\\n",
    "#  --learning_rate=5e-6 \\\n",
    "#  --lr_scheduler=\"constant\" \\\n",
    "#  --lr_warmup_steps=0 \\\n",
    "#  --num_class_images=200 \\\n",
    "#  --max_train_steps=800 \\\n",
    "#  --mixed_precision=fp16"
   ]
  }
 ],
 "metadata": {
  "kernelspec": {
   "display_name": "Python 3 (ipykernel)",
   "language": "python",
   "name": "python3"
  },
  "language_info": {
   "codemirror_mode": {
    "name": "ipython",
    "version": 3
   },
   "file_extension": ".py",
   "mimetype": "text/x-python",
   "name": "python",
   "nbconvert_exporter": "python",
   "pygments_lexer": "ipython3",
   "version": "3.10.6"
  }
 },
 "nbformat": 4,
 "nbformat_minor": 5
}

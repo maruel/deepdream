{
 "cells": [
  {
   "cell_type": "code",
   "execution_count": null,
   "id": "63325381-3624-435d-b4ff-15f1fd5853cb",
   "metadata": {},
   "outputs": [],
   "source": [
    "# Until v4.26.0 is out, requires:\n",
    "# pip install --upgrade git+https://github.com/huggingface/transformers\n",
    "# Sometimes, I may have to use bleeding edge:\n",
    "# pip install -U git+https://github.com/huggingface/diffusers\n",
    "\n",
    "import time\n",
    "\n",
    "import IPython\n",
    "import ipyplot\n",
    "import numpy as np\n",
    "\n",
    "import sdcommon\n",
    "import depth2img\n",
    "\n",
    "def run(save=True, **kwargs):\n",
    "    ml = depth2img.ML()\n",
    "    params = depth2img.Params(**kwargs)\n",
    "    start = time.time()\n",
    "    imgs, depth = ml.run(params) #, local_files_only=False)\n",
    "    print(\"Took %.1fs\" % (time.time()-start))\n",
    "    if save:\n",
    "      print(\"Saved as %s.png\" % sdcommon.save(ml, params, depth, *imgs)) \n",
    "    return imgs, depth\n",
    "\n",
    "def loop(**kwargs):\n",
    "    out = []\n",
    "    iterations = sdcommon.unroll(**kwargs)\n",
    "    print(\"Doing %d iterations\" % len(iterations))\n",
    "    for label, line in iterations:\n",
    "        imgs, _ = run(**line)\n",
    "        img = imgs[0]\n",
    "        out.append((label, img))\n",
    "        print(label)\n",
    "        IPython.display.display(img)\n",
    "    return out\n",
    "\n",
    "out = loop(\n",
    "    imagename=\"out/txt2img00000.png\",\n",
    "    prompt=\"TODO\",\n",
    "    neg_prompt=\"Disfigured. Too many fingers.\",\n",
    "    strength=[0.4, 0.5],\n",
    "    seed=range(7, 9),\n",
    "    steps=25)"
   ]
  },
  {
   "cell_type": "code",
   "execution_count": null,
   "id": "f46656b5-94b3-4346-9dd4-6e33a2f02165",
   "metadata": {},
   "outputs": [],
   "source": [
    "ipyplot.plot_images([i[1] for i in out], [i[0] for i in out], img_width=200)"
   ]
  }
 ],
 "metadata": {
  "kernelspec": {
   "display_name": "Python 3 (ipykernel)",
   "language": "python",
   "name": "python3"
  },
  "language_info": {
   "codemirror_mode": {
    "name": "ipython",
    "version": 3
   },
   "file_extension": ".py",
   "mimetype": "text/x-python",
   "name": "python",
   "nbconvert_exporter": "python",
   "pygments_lexer": "ipython3",
   "version": "3.10.6"
  }
 },
 "nbformat": 4,
 "nbformat_minor": 5
}

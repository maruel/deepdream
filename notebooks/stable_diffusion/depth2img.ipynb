{
 "cells": [
  {
   "cell_type": "code",
   "execution_count": null,
   "id": "334bf932-37dd-4346-b613-9db545235fdc",
   "metadata": {},
   "outputs": [],
   "source": [
    "# Until v4.26.0 is out, requires:\n",
    "# pip install --upgrade git+https://github.com/huggingface/transformers/\n",
    "\n",
    "import random\n",
    "import time\n",
    "\n",
    "import diffusers\n",
    "import torch\n",
    "import PIL\n",
    "\n",
    "# To test performance delta.\n",
    "use_cuda = torch.cuda.is_available()\n",
    "\n",
    "def inference(prompt, n_images, guidance, steps, seed, img, neg_prompt):\n",
    "    generator = None\n",
    "    if use_cuda:\n",
    "        generator = torch.Generator(\"cuda\").manual_seed(seed) if seed else None\n",
    "    elif seed:      \n",
    "        generator = torch.Generator()\n",
    "        generator.manual_seed(seed)\n",
    "    pipe = diffusers.StableDiffusionDepth2ImgPipeline.from_pretrained(\n",
    "        \"stabilityai/stable-diffusion-2-depth\",\n",
    "        revision=\"fp16\" if use_cuda else \"fp32\",\n",
    "        torch_dtype=torch.float16 if use_cuda else torch.float32)\n",
    "    pipe.scheduler = diffusers.DPMSolverMultistepScheduler.from_config(\n",
    "        pipe.scheduler.config)\n",
    "    if use_cuda:\n",
    "        pipe.to(\"cuda\")\n",
    "        pipe.enable_attention_slicing()\n",
    "    return pipe(\n",
    "        prompt,\n",
    "        num_images_per_prompt=n_images,\n",
    "        negative_prompt=neg_prompt,\n",
    "        image=img,\n",
    "        num_inference_steps=steps,\n",
    "        guidance_scale=guidance,\n",
    "        # width=width,\n",
    "        # height=height,\n",
    "        generator=generator).images\n",
    "\n",
    "def run(prompt, image):\n",
    "    n_images = 1 # number of images\n",
    "    neg_prompt = \"\"\n",
    "    guidance = 7.5 # max = 15\n",
    "    steps = 25 # [2, 100]\n",
    "    seed = 10 # random\n",
    "    # seed = random.randint(0, 2147483647)\n",
    "    print(f\"Seed: {seed}\")\n",
    "    start = time.time()\n",
    "    gallery = inference(prompt, n_images, guidance, steps, seed, image, neg_prompt)\n",
    "    print(\"Took %.1fs\" % (time.time()-start))\n",
    "    return gallery[0]\n",
    "\n",
    "img = run(\"war zone\", PIL.Image.open(\"out/bench.png\"))\n",
    "img.save(\"out/war_zone50.png\")\n",
    "img"
   ]
  },
  {
   "cell_type": "code",
   "execution_count": null,
   "id": "4863f215-4534-4f1d-939a-39717d7b2d9d",
   "metadata": {},
   "outputs": [],
   "source": []
  }
 ],
 "metadata": {
  "kernelspec": {
   "display_name": "Python 3 (ipykernel)",
   "language": "python",
   "name": "python3"
  },
  "language_info": {
   "codemirror_mode": {
    "name": "ipython",
    "version": 3
   },
   "file_extension": ".py",
   "mimetype": "text/x-python",
   "name": "python",
   "nbconvert_exporter": "python",
   "pygments_lexer": "ipython3",
   "version": "3.10.6"
  }
 },
 "nbformat": 4,
 "nbformat_minor": 5
}

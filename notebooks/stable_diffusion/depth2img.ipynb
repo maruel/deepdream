{
 "cells": [
  {
   "cell_type": "code",
   "execution_count": null,
   "id": "63325381-3624-435d-b4ff-15f1fd5853cb",
   "metadata": {},
   "outputs": [],
   "source": [
    "# Until v4.26.0 is out, requires:\n",
    "# pip install --upgrade git+https://github.com/huggingface/transformers\n",
    "# Sometimes, I may have to use bleeding edge:\n",
    "# pip install -U git+https://github.com/huggingface/diffusers\n",
    "\n",
    "import time\n",
    "\n",
    "import sdcommon\n",
    "import depth2img\n",
    "\n",
    "def run(imagename=\"out/txt2img00000.png\",\n",
    "        prompt=\"There are flowers everywhere\",\n",
    "        neg_prompt = \"Disfigured. Too many fingers.\",\n",
    "        **kwargs):\n",
    "    ml = depth2img.ML()\n",
    "    params = depth2img.Params(imagename=imagename, prompt=prompt, neg_prompt=neg_prompt, **kwargs)\n",
    "    start = time.time()\n",
    "    img, depth = ml.run(params) #, local_files_only=False)\n",
    "    print(\"Took %.1fs\" % (time.time()-start))\n",
    "    # todo: convert to pil, depth))\n",
    "    print(\"Saved as %s.png\" % sdcommon.save(ml, params, img[0]))\n",
    "    return img[0]\n",
    "\n",
    "img = run(prompt=prompt, steps=50, strength=0.9)\n",
    "img"
   ]
  }
 ],
 "metadata": {
  "kernelspec": {
   "display_name": "Python 3 (ipykernel)",
   "language": "python",
   "name": "python3"
  },
  "language_info": {
   "codemirror_mode": {
    "name": "ipython",
    "version": 3
   },
   "file_extension": ".py",
   "mimetype": "text/x-python",
   "name": "python",
   "nbconvert_exporter": "python",
   "pygments_lexer": "ipython3",
   "version": "3.10.6"
  }
 },
 "nbformat": 4,
 "nbformat_minor": 5
}

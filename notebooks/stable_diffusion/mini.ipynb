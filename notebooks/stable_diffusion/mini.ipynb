{
 "cells": [
  {
   "cell_type": "code",
   "execution_count": null,
   "id": "b2b15885-792f-4b7f-9306-6023c6e57f25",
   "metadata": {},
   "outputs": [],
   "source": [
    "# Barebone example.\n",
    "#\n",
    "# https://huggingface.co/stabilityai/stable-diffusion-2-1\n",
    "\n",
    "import diffusers\n",
    "import torch\n",
    "\n",
    "def run(prompt, out):\n",
    "    pipe = diffusers.StableDiffusionPipeline.from_pretrained(\n",
    "        \"stabilityai/stable-diffusion-2-1\", torch_dtype=torch.float16)\n",
    "    pipe.scheduler = diffusers.DPMSolverMultistepScheduler.from_config(\n",
    "        pipe.scheduler.config)\n",
    "    pipe = pipe.to(\"cuda\")\n",
    "    # Necessary with 6GB of VRAM.\n",
    "    pipe.enable_attention_slicing()\n",
    "    image = pipe(prompt).images[0]\n",
    "    if out:\n",
    "        image.save(out)\n",
    "    return image\n",
    "\n",
    "prompt = \"a photo of an astronaut riding a horse on mars\"\n",
    "prompt = \"Illustration of Japanese temple at the edge of a calm lake at night, full and glowing moon, warm moon light across the water and the surrounding landscape, full bloomed bushes around the shrine and delicate pink flowers, Shinto shrine is made of sleek, modern materials, with clean lines and a minimalist design, neon and cyberpunk style environment, bright, glowing colors and sharp, angular shapes, lake illuminated by colorful neon lights, in a vibrant, futuristic atmosphere, hyper realistic, futuristic setting, highly detailed, vibrant ink tinted colors, light pink clouds, calm and serenity, beautiful environment, epic scene, fantastical, photography, cinematic, Unreal Engine, hyper-detailed, beautiful lighting, global illumination, elegant, post-production, post-processing color-coded UHD, 8K\"\n",
    "prompt = \"The robot terminator bakes christmas cookies\"\n",
    "prompt = \"Rabbit running in the field full of rockets\"\n",
    "run(prompt, \"out/lapin.png\")\n"
   ]
  }
 ],
 "metadata": {
  "kernelspec": {
   "display_name": "Python 3 (ipykernel)",
   "language": "python",
   "name": "python3"
  },
  "language_info": {
   "codemirror_mode": {
    "name": "ipython",
    "version": 3
   },
   "file_extension": ".py",
   "mimetype": "text/x-python",
   "name": "python",
   "nbconvert_exporter": "python",
   "pygments_lexer": "ipython3",
   "version": "3.10.6"
  }
 },
 "nbformat": 4,
 "nbformat_minor": 5
}

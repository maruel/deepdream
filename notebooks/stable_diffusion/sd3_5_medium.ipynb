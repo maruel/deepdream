{
 "cells": [
  {
   "cell_type": "code",
   "execution_count": null,
   "id": "b83a32b4-93c9-45d2-b386-bf4e4f371f43",
   "metadata": {},
   "outputs": [],
   "source": [
    "import huggingface_hub\n",
    "huggingface_hub.notebook_login(new_session=False)"
   ]
  },
  {
   "cell_type": "code",
   "execution_count": null,
   "id": "100d8ff5-9ad7-40b1-b0db-1d3afe233616",
   "metadata": {},
   "outputs": [],
   "source": [
    "import diffusers\n",
    "import torch\n",
    "\n",
    "DEVICE = \"cuda\" if torch.cuda.is_available() else \"mps\" if torch.backends.mps.is_available() else \"cpu\"\n",
    "DTYPE = torch.float16 if DEVICE in (\"cuda\", \"mps\") else torch.float32\n",
    "print(f\"Using {DEVICE}\")\n",
    "\n",
    "def get_generator(seed):\n",
    "    if DEVICE in (\"cuda\", \"mps\"):\n",
    "        return torch.Generator(DEVICE).manual_seed(seed)\n",
    "    generator = torch.Generator()\n",
    "    generator.manual_seed(seed)\n",
    "    return generator\n",
    "\n",
    "pipe = diffusers.StableDiffusion3Pipeline.from_pretrained(\n",
    "    \"stabilityai/stable-diffusion-3-medium-diffusers\",\n",
    "    torch_dtype=DTYPE)\n",
    "\n",
    "if DEVICE == \"cuda\":\n",
    "    pipe = pipe.to(DEVICE)\n",
    "    pipe.enable_model_cpu_offload()\n",
    "elif DEVICE == \"mps\":\n",
    "    pipe = pipe.to(DEVICE)\n",
    "    pipe.enable_attention_slicing()"
   ]
  },
  {
   "cell_type": "code",
   "execution_count": null,
   "id": "b88a0a1c-598a-455d-b63d-c91c9b07b95e",
   "metadata": {},
   "outputs": [],
   "source": [
    "import time\n",
    "\n",
    "import diffusers\n",
    "  \n",
    "def gen_image(prompt, seed=1):\n",
    "    start = time.time()\n",
    "    img = pipe(\n",
    "        prompt,\n",
    "        negative_prompt=\"\",\n",
    "        num_inference_steps=28,\n",
    "        guidance_scale=7.0,\n",
    "        #height=512,\n",
    "        #width=512,\n",
    "        #height=1280,\n",
    "        #width=720,\n",
    "        generator=get_generator(seed),\n",
    "    ).images[0]\n",
    "    print(f\"Generation took {time.time()-start:.1f}s\")\n",
    "    return img"
   ]
  },
  {
   "cell_type": "code",
   "execution_count": null,
   "id": "e5ab4458-7dab-408c-9d3b-4cb67215fe09",
   "metadata": {},
   "outputs": [],
   "source": [
    "gen_image(\"A cat holding a sign that says hello world\")"
   ]
  },
  {
   "cell_type": "code",
   "execution_count": null,
   "id": "8379a417-d562-4afb-9ba1-a12231482952",
   "metadata": {},
   "outputs": [],
   "source": [
    "gen_image(\"Busy street. Lovely couple. Flowers. After rain. Night life.\")"
   ]
  },
  {
   "cell_type": "code",
   "execution_count": null,
   "id": "513afbce-1638-4b19-81e7-74ea130f3f59",
   "metadata": {},
   "outputs": [],
   "source": [
    "gen_image(\"Alligator riding a horse in a desert on a full moon night. snakes and dogs surrounding\")"
   ]
  },
  {
   "cell_type": "code",
   "execution_count": null,
   "id": "8f93e14f-2a81-4f76-9e8c-f82a494baadf",
   "metadata": {},
   "outputs": [],
   "source": [
    "gen_image(\"Alligator riding a horse in a desert on a full moon night. snakes and dogs surrounding. Painting the style of Monet\")"
   ]
  },
  {
   "cell_type": "code",
   "execution_count": null,
   "id": "1862e8b4-b11f-4f36-a017-f38fc83d9f1d",
   "metadata": {},
   "outputs": [],
   "source": [
    "gen_image(\"Painting the impressionist style of Monet. Alligator riding a horse in a desert on a full moon night. snakes and dogs surrounding\")"
   ]
  },
  {
   "cell_type": "code",
   "execution_count": null,
   "id": "c80b52d9-a4e0-48be-9c8c-7b8df89f8bdf",
   "metadata": {},
   "outputs": [],
   "source": [
    "    gen_image(\"Painting the impressionist style of Monet. Alligator riding a horse in a desert on a full moon night. snakes and dogs surrounding\")"
   ]
  },
  {
   "cell_type": "code",
   "execution_count": null,
   "id": "2d1cf6a7-7cc6-4fb6-bb55-be16207361b3",
   "metadata": {},
   "outputs": [],
   "source": [
    "gen_image(\"teckel in flight high definition, 4k\")"
   ]
  }
 ],
 "metadata": {
  "kernelspec": {
   "display_name": "Python 3 (ipykernel)",
   "language": "python",
   "name": "python3"
  },
  "language_info": {
   "codemirror_mode": {
    "name": "ipython",
    "version": 3
   },
   "file_extension": ".py",
   "mimetype": "text/x-python",
   "name": "python",
   "nbconvert_exporter": "python",
   "pygments_lexer": "ipython3",
   "version": "3.11.8"
  }
 },
 "nbformat": 4,
 "nbformat_minor": 5
}

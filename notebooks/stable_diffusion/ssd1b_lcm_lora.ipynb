{
 "cells": [
  {
   "cell_type": "code",
   "execution_count": null,
   "id": "ca72a9dc-0f96-402f-874e-09ce0455298b",
   "metadata": {},
   "outputs": [],
   "source": [
    "# https://huggingface.co/blog/lcm_lora\n",
    "# https://huggingface.co/segmind/SSD-1B\n",
    "import datetime\n",
    "import os\n",
    "import time\n",
    "import warnings\n",
    "\n",
    "# On Intel without a GPU, the cuda backend will spew errors and warnings.\n",
    "os.environ[\"TF_CPP_MIN_LOG_LEVEL\"] = \"3\"\n",
    "warnings.filterwarnings(\"ignore\")\n",
    "\n",
    "import diffusers\n",
    "import torch\n",
    "from IPython.display import display\n",
    "\n",
    "DEVICE = \"cuda\" if torch.cuda.is_available() else \"mps\" if torch.backends.mps.is_available() else \"cpu\"\n",
    "DTYPE = torch.float16 if DEVICE in (\"cuda\", \"mps\") else torch.float32\n",
    "print(f\"Using {DEVICE}\")\n",
    "\n",
    "def get_generator(seed):\n",
    "    if DEVICE in (\"cuda\", \"mps\"):\n",
    "        return torch.Generator(DEVICE).manual_seed(seed)\n",
    "    generator = torch.Generator()\n",
    "    generator.manual_seed(seed)\n",
    "    return generator\n",
    "\n",
    "pipe = diffusers.DiffusionPipeline.from_pretrained(\"segmind/SSD-1B\")\n",
    "pipe.load_lora_weights(\"latent-consistency/lcm-lora-ssd-1b\")\n",
    "pipe.scheduler = diffusers.LCMScheduler.from_config(pipe.scheduler.config)\n",
    "pipe.to(DEVICE, dtype=DTYPE)\n",
    "\n",
    "if DEVICE == \"cuda\":\n",
    "    torch.backends.cuda.matmul.allow_tf32 = True\n",
    "elif DEVICE == \"cpu\":\n",
    "    try:\n",
    "        # Interestingly I see no performance improvement at all.\n",
    "        import intel_extension_for_pytorch as ipex\n",
    "        pipe.unet = ipex.optimize(pipe.unet.eval(), dtype=DTYPE, inplace=True)\n",
    "        pipe.vae = ipex.optimize(pipe.vae.eval(), dtype=DTYPE, inplace=True)\n",
    "        pipe.text_encoder = ipex.optimize(pipe.text_encoder.eval(), dtype=DTYPE, inplace=True)\n",
    "        print(\"Using Intel (accelerated)\")\n",
    "    except ImportError:\n",
    "        pass\n",
    "\n",
    "def gen_image(prompt, seed):\n",
    "    return pipe(\n",
    "        prompt=prompt, num_inference_steps=4,\n",
    "        guidance_scale=1, generator=get_generator(seed)).images[0]"
   ]
  },
  {
   "cell_type": "code",
   "execution_count": null,
   "id": "6efe6785-2d41-4c8f-a59c-1cbc7a210c84",
   "metadata": {
    "scrolled": true
   },
   "outputs": [],
   "source": [
    "#prompt = \"close-up photography of old man standing in the rain at night, in a street lit by lamps, leica 35mm summilux\"\n",
    "#prompt = \"scene from the 1979 dystopian action film Mad Max, 35mm Eastmancolor\"\n",
    "prompt = \"fireplace, warm cozy book shelf candle snow mountain window sofa rustic\"\n",
    "seed = 30\n",
    "\n",
    "start = time.time()\n",
    "for i in range(5):\n",
    "    img = gen_image(prompt, seed+i)\n",
    "    print(f\"{i} Inference in {time.time()-start:.1f}s\")\n",
    "    display(img)\n",
    "    #now = str(datetime.datetime.now().replace(microsecond=0)).replace(\" \", \"-\").replace(\":\", \"-\")\n",
    "    #img.save(f\"out/ssd1b_lcm_lora-{now}.png\")"
   ]
  }
 ],
 "metadata": {
  "kernelspec": {
   "display_name": "Python 3 (ipykernel)",
   "language": "python",
   "name": "python3"
  },
  "language_info": {
   "codemirror_mode": {
    "name": "ipython",
    "version": 3
   },
   "file_extension": ".py",
   "mimetype": "text/x-python",
   "name": "python",
   "nbconvert_exporter": "python",
   "pygments_lexer": "ipython3",
   "version": "3.12.8"
  }
 },
 "nbformat": 4,
 "nbformat_minor": 5
}

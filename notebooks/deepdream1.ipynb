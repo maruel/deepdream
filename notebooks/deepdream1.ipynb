{
 "cells": [
  {
   "cell_type": "code",
   "execution_count": null,
   "id": "f3796978-6de0-46c1-8e9f-afed30380649",
   "metadata": {},
   "outputs": [],
   "source": [
    "%matplotlib widget\n",
    "\n",
    "import logging, os, time\n",
    "\n",
    "from IPython.display import display, HTML\n",
    "import matplotlib.pyplot as plt\n",
    "from matplotlib import animation, image\n",
    "import numpy as np\n",
    "\n",
    "import deepdream\n",
    "\n",
    "#logging.basicConfig(level=logging.DEBUG, format=\"%(relativeCreated)6d %(message)s\")"
   ]
  },
  {
   "cell_type": "code",
   "execution_count": null,
   "id": "c8a6f39e-e889-4adf-bdd0-c21a65f643e4",
   "metadata": {},
   "outputs": [],
   "source": [
    "start = time.time()\n",
    "print(\"Started ...\")\n",
    "# 'https://pbs.twimg.com/profile_images/80041186/chicken.gif'\n",
    "dreams = deepdream.run_deep_dream_simple(\n",
    "    img=deepdream.download(\"chicken.gif\"),\n",
    "    steps=1000,\n",
    "    step_size=0.01,\n",
    "    steps_per_output=10)\n",
    "\n",
    "imgs = [\n",
    "  deepdream.PIL.Image.fromarray(deepdream.np.array(deepdream.denormalize(img)))\n",
    "  for img in dreams\n",
    "]\n",
    "print(\"Done in %.1fs\" % (time.time() - start))"
   ]
  },
  {
   "cell_type": "code",
   "execution_count": null,
   "id": "c1294cd3-d24b-4c35-a365-d627805f70a0",
   "metadata": {},
   "outputs": [],
   "source": [
    "out = os.path.join(\"out\", \"troubled_chicken.gif\")\n",
    "imgs[0].save(\n",
    "    out,\n",
    "    save_all=True,\n",
    "    append_images=imgs[1:],\n",
    "    duration=[1000] + ([40] * (len(imgs)-2)) + [1000],\n",
    "    loop=0)"
   ]
  },
  {
   "cell_type": "code",
   "execution_count": null,
   "id": "e931f076-eec7-4199-8086-a72f54386ccd",
   "metadata": {},
   "outputs": [],
   "source": [
    "def plot_sequence_images(image_array):\n",
    "  fig = plt.figure()\n",
    "  im = plt.figimage(image_array[0])\n",
    "    \n",
    "  def animate(i):\n",
    "    im.set_array(image_array[i])\n",
    "    return (im,)\n",
    "\n",
    "  anim = animation.FuncAnimation(fig, animate, frames=len(image_array), interval=33, repeat_delay=1, repeat=True)\n",
    "  display(HTML(anim.to_html5_video()))\n",
    "\n",
    "plot_sequence_images(imgs)"
   ]
  },
  {
   "cell_type": "code",
   "execution_count": null,
   "id": "36999d3c-d932-4331-a34e-2e4daac849f4",
   "metadata": {},
   "outputs": [],
   "source": []
  }
 ],
 "metadata": {
  "kernelspec": {
   "display_name": "Python 3 (ipykernel)",
   "language": "python",
   "name": "python3"
  },
  "language_info": {
   "codemirror_mode": {
    "name": "ipython",
    "version": 3
   },
   "file_extension": ".py",
   "mimetype": "text/x-python",
   "name": "python",
   "nbconvert_exporter": "python",
   "pygments_lexer": "ipython3",
   "version": "3.8.10"
  }
 },
 "nbformat": 4,
 "nbformat_minor": 5
}

{
 "cells": [
  {
   "cell_type": "code",
   "execution_count": 1,
   "id": "51db04c9-7ef6-4272-ad2c-8c4154e80d6f",
   "metadata": {},
   "outputs": [],
   "source": [
    "%matplotlib widget\n",
    "import os\n",
    "import shutil\n",
    "import time\n",
    "import urllib\n",
    "from matplotlib import pyplot as plt\n",
    "import numpy as np\n",
    "import tensorflow as tf\n",
    "from tensorflow import keras\n",
    "from tensorflow.keras import layers"
   ]
  },
  {
   "cell_type": "code",
   "execution_count": 2,
   "id": "2beb928a-980b-457b-9b8a-7614093fc67b",
   "metadata": {},
   "outputs": [],
   "source": [
    "def setup():\n",
    "    # https://www.kaggle.com/c/dogs-vs-cats/data\n",
    "    pass"
   ]
  },
  {
   "cell_type": "code",
   "execution_count": null,
   "id": "6476aba3-98dc-4e4e-9994-05c9a9f25047",
   "metadata": {},
   "outputs": [],
   "source": [
    "|kaggle hel"
   ]
  }
 ],
 "metadata": {
  "kernelspec": {
   "display_name": "Python 3 (ipykernel)",
   "language": "python",
   "name": "python3"
  },
  "language_info": {
   "codemirror_mode": {
    "name": "ipython",
    "version": 3
   },
   "file_extension": ".py",
   "mimetype": "text/x-python",
   "name": "python",
   "nbconvert_exporter": "python",
   "pygments_lexer": "ipython3",
   "version": "3.8.10"
  }
 },
 "nbformat": 4,
 "nbformat_minor": 5
}

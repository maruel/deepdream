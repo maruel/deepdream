{
 "cells": [
  {
   "cell_type": "code",
   "execution_count": null,
   "id": "50d6a07c-6162-42bd-aa09-a8f0e3457d16",
   "metadata": {},
   "outputs": [],
   "source": [
    "# https://ai.google.dev/gemma/docs/get_started\n",
    "# https://colab.research.google.com/github/google/generative-ai-docs/blob/main/site/en/gemma/docs/get_started.ipynb\n",
    "import os\n",
    "import sys\n",
    "if os.path.isfile(os.path.expanduser(\"~/.kaggle/kaggle.json\")):\n",
    "    print(\"Authenticating with kaggle.json\")\n",
    "elif os.getenv(\"KAGGLE_USERNAME\") and os.getenv(\"KAGGLE_KEY\"):\n",
    "    print(\"Authenticating with environment variable\")\n",
    "else:\n",
    "    print(\"Visit https://www.kaggle.com/settings first.\")\n",
    "    sys.exit(1)\n",
    "os.environ[\"KERAS_BACKEND\"] = \"torch\" # \"jax\", \"tensorflow\"\n",
    "\n",
    "# If on macOS, need to do the following while in the virtualenv:\n",
    "#  git clone https://github.com/tensorflow/text.git; cd text; ./oss_scripts/run_build.sh\n",
    "\n",
    "import kagglehub\n",
    "import keras\n",
    "import keras_nlp"
   ]
  },
  {
   "cell_type": "code",
   "execution_count": null,
   "id": "2cee9e0b-9a2d-426b-b571-1b14b302d474",
   "metadata": {},
   "outputs": [],
   "source": [
    "try:\n",
    "    # 4.7GiB, throttled at 10MiB/s so >8 minutes.\n",
    "    gemma_lm = keras_nlp.models.GemmaCausalLM.from_preset(\"gemma_2b_en\")\n",
    "except kagglehub.exceptions.KaggleApiHTTPError:\n",
    "    print(\"Visit https://www.kaggle.com/models/google/gemma and request access\")\n",
    "\n",
    "gemma_lm.summary()"
   ]
  },
  {
   "cell_type": "code",
   "execution_count": null,
   "id": "ffc4a475-b507-4034-934d-c9e372b8a609",
   "metadata": {},
   "outputs": [],
   "source": [
    "gemma_lm.generate(\"What is the meaning of life?\", max_length=64)"
   ]
  }
 ],
 "metadata": {
  "kernelspec": {
   "display_name": "Python 3 (ipykernel)",
   "language": "python",
   "name": "python3"
  },
  "language_info": {
   "codemirror_mode": {
    "name": "ipython",
    "version": 3
   },
   "file_extension": ".py",
   "mimetype": "text/x-python",
   "name": "python",
   "nbconvert_exporter": "python",
   "pygments_lexer": "ipython3",
   "version": "3.11.7"
  }
 },
 "nbformat": 4,
 "nbformat_minor": 5
}

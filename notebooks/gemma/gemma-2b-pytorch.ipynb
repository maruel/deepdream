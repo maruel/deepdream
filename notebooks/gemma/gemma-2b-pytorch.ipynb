{
 "cells": [
  {
   "cell_type": "code",
   "execution_count": null,
   "id": "eb7e64a1-5a22-412b-a87e-d9cb026b8826",
   "metadata": {},
   "outputs": [],
   "source": [
    "# See ./README.md\n",
    "import contextlib\n",
    "import os\n",
    "import sys\n",
    "import time\n",
    "\n",
    "import torch\n",
    "\n",
    "import gemma.config\n",
    "import gemma.model\n",
    "\n",
    "DEVICE = \"cuda\" if torch.cuda.is_available() else \"mps\" if torch.backends.mps.is_available() else \"cpu\"\n",
    "if DEVICE == \"mps\":\n",
    "    print(\"Can't use mps because https://github.com/pytorch/pytorch/issues/78044, upgrade to next version\")\n",
    "    DEVICE = \"cpu\"\n",
    "print(f\"Using {DEVICE}\")\n",
    "\n",
    "# Make it reproducible.\n",
    "torch.manual_seed(12)\n",
    "\n",
    "@contextlib.contextmanager\n",
    "def _set_default_tensor_type(dtype: torch.dtype):\n",
    "    \"\"\"Sets the default torch dtype to the given dtype.\"\"\"\n",
    "    torch.set_default_dtype(dtype)\n",
    "    yield\n",
    "    torch.set_default_dtype(torch.float)\n",
    "\n",
    "def get_generator(seed):\n",
    "    if DEVICE in (\"cuda\", \"mps\"):\n",
    "        return torch.Generator(DEVICE).manual_seed(seed)\n",
    "    return torch.Generator().manual_seed(seed)\n",
    "\n",
    "def load_model(variant=\"2b\", modelzip=None):\n",
    "    # variant=\"7b\"\n",
    "    start = time.time()\n",
    "    modelzip = modelzip or os.path.expanduser(\"~/Downloads/archive/gemma-2b.ckpt\")\n",
    "    if not os.path.isfile(modelzip):\n",
    "        print(\"See ./README.md\")\n",
    "        sys.exit(1)\n",
    "\n",
    "    cfg = gemma.config.get_model_config(variant)\n",
    "    cfg.tokenizer = os.path.join(os.path.dirname(modelzip), \"tokenizer.model\")\n",
    "    cfg.dtype = \"float16\" if DEVICE in (\"cuda\", \"mps\") else \"float32\"\n",
    "    cfg.quant = False\n",
    "\n",
    "    device = torch.device(DEVICE)\n",
    "    with _set_default_tensor_type(cfg.get_dtype()):\n",
    "        model = gemma.model.GemmaForCausalLM(cfg)\n",
    "        model.load_weights(modelzip)\n",
    "        model = model.to(DEVICE).eval()\n",
    "\n",
    "    print(f\"Model loaded in {time.time()-start:.1f}s\")\n",
    "    return model\n",
    "\n",
    "def generate(p):\n",
    "    start = time.time()\n",
    "    result = model.generate(p, DEVICE)\n",
    "    print(f\"{result}\\nin {time.time()-start:.1f}s\")"
   ]
  },
  {
   "cell_type": "code",
   "execution_count": null,
   "id": "1446d653-abee-4224-8074-307cc3033102",
   "metadata": {},
   "outputs": [],
   "source": [
    "model = load_model(modelzip=os.path.expanduser(\"~/Téléchargements/archive/gemma-2b.ckpt\"))"
   ]
  },
  {
   "cell_type": "code",
   "execution_count": null,
   "id": "15a51fa8-711b-4ef4-ba54-ae1b7e368d97",
   "metadata": {},
   "outputs": [],
   "source": [
    "generate(\"How are you doing?\")"
   ]
  }
 ],
 "metadata": {
  "kernelspec": {
   "display_name": "Python 3 (ipykernel)",
   "language": "python",
   "name": "python3"
  },
  "language_info": {
   "codemirror_mode": {
    "name": "ipython",
    "version": 3
   },
   "file_extension": ".py",
   "mimetype": "text/x-python",
   "name": "python",
   "nbconvert_exporter": "python",
   "pygments_lexer": "ipython3",
   "version": "3.11.7"
  }
 },
 "nbformat": 4,
 "nbformat_minor": 5
}

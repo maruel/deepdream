{
 "cells": [
  {
   "cell_type": "code",
   "execution_count": null,
   "id": "ede464b4-add5-4756-8240-018d65c11ab7",
   "metadata": {},
   "outputs": [],
   "source": [
    "# Kill\n",
    "! nvidia-smi | grep 'python' | awk '{ print $5 }' | xargs -n1 kill"
   ]
  }
 ],
 "metadata": {
  "kernelspec": {
   "display_name": "Python 3 (ipykernel)",
   "language": "python",
   "name": "python3"
  },
  "language_info": {
   "codemirror_mode": {
    "name": "ipython",
    "version": 3
   },
   "file_extension": ".py",
   "mimetype": "text/x-python",
   "name": "python",
   "nbconvert_exporter": "python",
   "pygments_lexer": "ipython3",
   "version": "3.10.6"
  }
 },
 "nbformat": 4,
 "nbformat_minor": 5
}

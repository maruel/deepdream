{
 "cells": [
  {
   "cell_type": "code",
   "execution_count": null,
   "id": "51db04c9-7ef6-4272-ad2c-8c4154e80d6f",
   "metadata": {},
   "outputs": [],
   "source": [
    "%matplotlib widget\n",
    "import os\n",
    "import shutil\n",
    "import time\n",
    "import urllib\n",
    "import zipfile\n",
    "from matplotlib import pyplot as plt\n",
    "import numpy as np\n",
    "import tensorflow as tf\n",
    "from tensorflow import keras\n",
    "from tensorflow.keras import layers, utils"
   ]
  },
  {
   "cell_type": "code",
   "execution_count": null,
   "id": "2beb928a-980b-457b-9b8a-7614093fc67b",
   "metadata": {},
   "outputs": [],
   "source": [
    "def download():\n",
    "    \"\"\"Creates notebooks/kaggle/dogs-vs-cats/dogs-vs-cats.zip\"\"\"\n",
    "    # - Visit https://www.kaggle.com/\n",
    "    # - login,\n",
    "    # - Go to your account\n",
    "    # - Click \"Create New API Token\"\n",
    "    # - Put the file in ~/.kaggle\n",
    "    # - chmod 600 ~/.kaggle/kaggle.json\n",
    "    # - Visit https://www.kaggle.com/c/dogs-vs-cats/rules\n",
    "    # - Click \"I understand and accept\"\n",
    "    !kaggle competitions download -c dogs-vs-cats -p kaggle/dogs-vs-cats\n",
    "\n",
    "def extract():\n",
    "    \"\"\"Doing the reverse and opening each file one at a time is notoriously slow in python(!)\"\"\"\n",
    "    for t in (\"cat\", \"dog\"):\n",
    "        for d in (\"train\", \"validation\", \"test\"):\n",
    "            os.makedirs(f\"kaggle/dogs-vs-cats/{d}/{t}\", exist_ok=True) \n",
    "    with zipfile.ZipFile(\"kaggle/dogs-vs-cats/dogs-vs-cats.zip\") as z1:\n",
    "        with zipfile.ZipFile(z1.open(\"train.zip\")) as z:\n",
    "            for inf in z.infolist():\n",
    "                n = inf.filename\n",
    "                if not n.startswith(\"train/\") or not n.endswith(\".jpg\"):\n",
    "                    continue\n",
    "                n = n[6:]\n",
    "                p = n.split(\".\")\n",
    "                i = int(p[1])\n",
    "                if i < 1000:\n",
    "                    with open(\"kaggle/dogs-vs-cats/train/%s/%s.jpg\" % (p[0], p[1]), \"wb\") as f:\n",
    "                        f.write(z.read(inf))\n",
    "                elif i < 1500:\n",
    "                    with open(\"kaggle/dogs-vs-cats/validation/%s/%s.jpg\" % (p[0], p[1]), \"wb\") as f:\n",
    "                        f.write(z.read(inf))\n",
    "                elif i < 2500:\n",
    "                    with open(\"kaggle/dogs-vs-cats/test/%s/%s.jpg\" % (p[0], p[1]), \"wb\") as f:\n",
    "                        f.write(z.read(inf))\n",
    "\n",
    "if not os.path.isfile(\"kaggle/dogs-vs-cats/test/dog/2499.jpg\"):\n",
    "    download()\n",
    "    extract()"
   ]
  },
  {
   "cell_type": "code",
   "execution_count": null,
   "id": "6476aba3-98dc-4e4e-9994-05c9a9f25047",
   "metadata": {},
   "outputs": [],
   "source": [
    "img_size = 256 # 180\n",
    "color_mode = \"rgb\"\n",
    "train_dataset = utils.image_dataset_from_directory(\"kaggle/dogs-vs-cats/train\", image_size=(img_size, img_size), batch_size=32, color_mode=color_mode)\n",
    "validation_dataset = utils.image_dataset_from_directory(\"kaggle/dogs-vs-cats/validation\", image_size=(img_size, img_size), batch_size=32, color_mode=color_mode)\n",
    "test_dataset = utils.image_dataset_from_directory(\"kaggle/dogs-vs-cats/test\", image_size=(img_size, img_size), batch_size=32, color_mode=color_mode)\n",
    "\n",
    "def test_model(p):\n",
    "    test_mdl = keras.models.load_model(p)\n",
    "    test_loss, test_acc = test_mdl.evaluate(test_dataset, verbose=0)\n",
    "    print(f\"Test accuracy: {test_acc:.3f}\")\n",
    "\n",
    "def draw_hist(h):\n",
    "    acc = h.history[\"accuracy\"]\n",
    "    val_acc = h.history[\"val_accuracy\"]\n",
    "    loss = h.history[\"loss\"]\n",
    "    val_loss = h.history[\"val_loss\"]\n",
    "    epochs = range(1, len(acc) + 1)\n",
    "\n",
    "    #plt.clf()\n",
    "    plt.figure(figsize=(10, 5))\n",
    "    ax = plt.subplot(1, 2, 1)\n",
    "    plt.plot(epochs, acc, \"bo\", label=\"Training accuracy\")\n",
    "    plt.plot(epochs, val_acc, \"b\", label=\"Validation accuracy\")\n",
    "    plt.title(\"Training and validation accuracy\")\n",
    "    plt.legend()\n",
    "\n",
    "    #plt.figure()\n",
    "    ax = plt.subplot(1, 2, 2)\n",
    "    plt.plot(epochs, loss, \"bo\", label=\"Training loss\")\n",
    "    plt.plot(epochs, val_loss, \"b\", label=\"Validation loss\")\n",
    "    plt.title(\"Training and validation loss\")\n",
    "    plt.legend()\n",
    "    plt.show()\n",
    "\n",
    "def fit_first(p):\n",
    "    inputs = keras.Input(shape=(img_size, img_size, 3))\n",
    "    x = layers.Rescaling(1./255)(inputs)\n",
    "    x = layers.Conv2D(filters=32, kernel_size=3, activation=\"relu\")(x)\n",
    "    x = layers.MaxPooling2D(pool_size=2)(x)\n",
    "    x = layers.Conv2D(filters=64, kernel_size=3, activation=\"relu\")(x)\n",
    "    x = layers.MaxPooling2D(pool_size=2)(x)\n",
    "    x = layers.Conv2D(filters=128, kernel_size=3, activation=\"relu\")(x)\n",
    "    x = layers.MaxPooling2D(pool_size=2)(x)\n",
    "    x = layers.Conv2D(filters=256, kernel_size=3, activation=\"relu\")(x)\n",
    "    x = layers.MaxPooling2D(pool_size=2)(x)\n",
    "    x = layers.Conv2D(filters=256, kernel_size=3, activation=\"relu\")(x)\n",
    "    x = layers.Flatten()(x)\n",
    "    outputs = layers.Dense(1, activation=\"sigmoid\")(x)\n",
    "    mdl = keras.Model(inputs=inputs, outputs=outputs)\n",
    "    mdl.compile(loss=\"binary_crossentropy\", optimizer=\"rmsprop\", metrics=[\"accuracy\"])\n",
    "\n",
    "    cb = [\n",
    "        keras.callbacks.ModelCheckpoint(\n",
    "            filepath=p,\n",
    "            save_best_only=True,\n",
    "            monitor=\"val_loss\")\n",
    "    ]\n",
    "    # epochs=10\n",
    "    return mdl.fit(train_dataset, epochs=10, validation_data=validation_dataset, callbacks=cb)\n",
    "\n",
    "data_augmentation = keras.Sequential(\n",
    "    [\n",
    "        layers.RandomFlip(\"horizontal\"),\n",
    "        layers.RandomRotation(0.1),\n",
    "        layers.RandomZoom(0.2),\n",
    "    ])\n",
    "\n",
    "def fit_aug(p):\n",
    "    inputs = keras.Input(shape=(img_size, img_size, 3))\n",
    "    x = data_augmentation(inputs)\n",
    "    x = layers.Rescaling(1./255)(x)\n",
    "    x = layers.Conv2D(filters=32, kernel_size=3, activation=\"relu\")(x)\n",
    "    x = layers.MaxPooling2D(pool_size=2)(x)\n",
    "    x = layers.Conv2D(filters=64, kernel_size=3, activation=\"relu\")(x)\n",
    "    x = layers.MaxPooling2D(pool_size=2)(x)\n",
    "    x = layers.Conv2D(filters=128, kernel_size=3, activation=\"relu\")(x)\n",
    "    x = layers.MaxPooling2D(pool_size=2)(x)\n",
    "    x = layers.Conv2D(filters=256, kernel_size=3, activation=\"relu\")(x)\n",
    "    x = layers.MaxPooling2D(pool_size=2)(x)\n",
    "    x = layers.Conv2D(filters=256, kernel_size=3, activation=\"relu\")(x)\n",
    "    x = layers.Flatten()(x)\n",
    "    outputs = layers.Dense(1, activation=\"sigmoid\")(x)\n",
    "    mdl2 = keras.Model(inputs=inputs, outputs=outputs)\n",
    "    mdl2.compile(loss=\"binary_crossentropy\", optimizer=\"rmsprop\", metrics=[\"accuracy\"])\n",
    "    cb2 = [\n",
    "        keras.callbacks.ModelCheckpoint(\n",
    "            filepath=p,\n",
    "            save_best_only=True,\n",
    "            monitor=\"val_loss\")\n",
    "    ]\n",
    "    # epochs=100\n",
    "    return mdl2.fit(train_dataset, epochs=40, validation_data=validation_dataset, callbacks=cb2)\n",
    "\n",
    "def draw_augmented_images():\n",
    "    plt.figure(figsize=(10, 10))\n",
    "    for imgs, _ in train_dataset.take(1):\n",
    "        for i in range(9):\n",
    "            aug_imgs = data_augmentation(imgs)\n",
    "            ax = plt.subplot(3, 3, i+1)\n",
    "            plt.imshow(aug_imgs[0].numpy().astype(\"uint8\"))\n",
    "            plt.axis(\"off\")"
   ]
  },
  {
   "cell_type": "code",
   "execution_count": null,
   "id": "a1b1d058-d0d4-4595-8745-4679d1f523a9",
   "metadata": {},
   "outputs": [],
   "source": [
    "hist = fit_first(f\"out/chap8_{img_size}.keras\")"
   ]
  },
  {
   "cell_type": "code",
   "execution_count": null,
   "id": "aaa7abed-b2c6-40dd-9c96-bb3e4a1af1b5",
   "metadata": {},
   "outputs": [],
   "source": [
    "draw_hist(hist)"
   ]
  },
  {
   "cell_type": "code",
   "execution_count": null,
   "id": "cf276a13-54cc-43f7-bdd6-445b75917821",
   "metadata": {},
   "outputs": [],
   "source": [
    "test_model(f\"out/chap8_{img_size}.keras\")"
   ]
  },
  {
   "cell_type": "code",
   "execution_count": null,
   "id": "6bd9d177-4374-4002-9cdf-990188189c7f",
   "metadata": {},
   "outputs": [],
   "source": [
    "draw_augmented_images()"
   ]
  },
  {
   "cell_type": "code",
   "execution_count": null,
   "id": "af168920-3a1e-4b77-88bf-5e27fd68b0b4",
   "metadata": {},
   "outputs": [],
   "source": [
    "hist2 = fit_aug(f\"out/chap8_{img_size}_aug.keras\")"
   ]
  },
  {
   "cell_type": "code",
   "execution_count": null,
   "id": "44274db5-8d77-44cc-a52a-cbe07f054e78",
   "metadata": {},
   "outputs": [],
   "source": [
    "draw_hist(hist2)"
   ]
  },
  {
   "cell_type": "code",
   "execution_count": null,
   "id": "91e59bd0-9f6f-4c87-b161-1c73955c45d3",
   "metadata": {},
   "outputs": [],
   "source": [
    "test_model(f\"out/chap8_{img_size}_aug.keras\")"
   ]
  },
  {
   "cell_type": "code",
   "execution_count": null,
   "id": "5c3561a4-6bc6-4848-9e5f-4301783e0605",
   "metadata": {},
   "outputs": [],
   "source": [
    "conv_base = keras.applications.vgg16.VGG16(\n",
    "    weights=\"imagenet\",\n",
    "    include_top=False,\n",
    "    input_shape=(img_size, img_size, 3))\n",
    "#print(conv_base.summary())\n",
    "# TODO(maruel): Finish chap 8 for feature extraction if desired."
   ]
  },
  {
   "cell_type": "code",
   "execution_count": null,
   "id": "18f25569-3962-4af6-a125-01690a05fb81",
   "metadata": {},
   "outputs": [],
   "source": []
  }
 ],
 "metadata": {
  "kernelspec": {
   "display_name": "Python 3 (ipykernel)",
   "language": "python",
   "name": "python3"
  },
  "language_info": {
   "codemirror_mode": {
    "name": "ipython",
    "version": 3
   },
   "file_extension": ".py",
   "mimetype": "text/x-python",
   "name": "python",
   "nbconvert_exporter": "python",
   "pygments_lexer": "ipython3",
   "version": "3.10.6"
  }
 },
 "nbformat": 4,
 "nbformat_minor": 5
}

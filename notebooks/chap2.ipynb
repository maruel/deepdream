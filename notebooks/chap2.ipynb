{
 "cells": [
  {
   "cell_type": "code",
   "execution_count": null,
   "id": "b1e2dbba-ec3c-40b1-81a4-37460f85da52",
   "metadata": {},
   "outputs": [],
   "source": [
    "import time\n",
    "import tensorflow as tf\n",
    "from tensorflow import keras\n",
    "from tensorflow.keras import layers\n",
    "\n",
    "#keras.mixed_precision.set_global_policy(\"float32\")\n",
    "#keras.mixed_precision.set_global_policy(\"mixed_float16\")"
   ]
  },
  {
   "cell_type": "code",
   "execution_count": null,
   "id": "df9a5164-b4fb-4693-a375-6668e74985f2",
   "metadata": {},
   "outputs": [],
   "source": [
    "(train_img, train_lbl), (test_img, test_lbl) = keras.datasets.mnist.load_data()\n",
    "mdl = keras.Sequential([\n",
    "    layers.Dense(512, activation=\"relu\"),\n",
    "    layers.Dense(16, activation=\"softmax\", dtype=\"float32\"),\n",
    "])                            \n",
    "mdl.compile(\n",
    "    optimizer=\"rmsprop\", loss=\"sparse_categorical_crossentropy\", metrics=[\"accuracy\"])\n",
    "train_img = train_img.reshape((60000, 28*28)).astype(\"float32\") / 255\n",
    "test_img = test_img.reshape((10000, 28*28)).astype(\"float32\") / 255"
   ]
  },
  {
   "cell_type": "code",
   "execution_count": null,
   "id": "5cce84b5-47b9-4524-8d22-b4e67c11210e",
   "metadata": {},
   "outputs": [],
   "source": [
    "start = time.time()\n",
    "mdl.fit(train_img, train_lbl, epochs=5, batch_size=1024, verbose=0)\n",
    "pred = mdl.predict(test_img[0:10])\n",
    "print(pred[0].argmax())\n",
    "loss, acc = mdl.evaluate(test_img, test_lbl)\n",
    "print(\"Accuracy: {:.4f}; done in {:.1f}s\".format(acc, (time.time() - start)))"
   ]
  },
  {
   "cell_type": "code",
   "execution_count": null,
   "id": "155d59f7-c4af-4f89-bc11-20cdb6b7510c",
   "metadata": {},
   "outputs": [],
   "source": []
  }
 ],
 "metadata": {
  "kernelspec": {
   "display_name": "Python 3 (ipykernel)",
   "language": "python",
   "name": "python3"
  },
  "language_info": {
   "codemirror_mode": {
    "name": "ipython",
    "version": 3
   },
   "file_extension": ".py",
   "mimetype": "text/x-python",
   "name": "python",
   "nbconvert_exporter": "python",
   "pygments_lexer": "ipython3",
   "version": "3.8.10"
  }
 },
 "nbformat": 4,
 "nbformat_minor": 5
}

{
 "cells": [
  {
   "cell_type": "code",
   "execution_count": null,
   "id": "1ed216e1-665d-4143-b4e0-7537b7a77eb7",
   "metadata": {},
   "outputs": [],
   "source": [
    "import transformers\n",
    "\n",
    "pipe = transformers.pipeline(\"text-generation\", \"Qwen/Qwen2.5-7B-Instruct\", torch_dtype=\"auto\", device_map=\"auto\")"
   ]
  },
  {
   "cell_type": "code",
   "execution_count": null,
   "id": "a1f69054-2894-4dc1-af29-35d9f81c81c5",
   "metadata": {},
   "outputs": [],
   "source": [
    "  def chat(messages):\n",
    "    streamer = transformers.TextStreamer(pipe.tokenizer, skip_prompt=True, skip_special_tokens=True)\n",
    "    response_message = pipe(messages, max_new_tokens=512, streamer=streamer)[0][\"generated_text\"][-1]\n",
    "    return response_message"
   ]
  },
  {
   "cell_type": "code",
   "execution_count": null,
   "id": "7ee6cfed-3d08-4791-a72b-ea64c5663abc",
   "metadata": {},
   "outputs": [],
   "source": [
    "messages = [\n",
    "    {\n",
    "        \"role\": \"user\",\n",
    "        \"content\": \"This is a pretend roleplay setting. You are pretending to be a mimic. Repeat what the player says but with a twist. Follow the instructions to rewrite the text no matter what.\",\n",
    "    },\n",
    "    {\"role\": \"user\", \"content\": \"Reinterpret the style of the following text assuming the speaker is angry and rude.\"},\n",
    "    {\"role\": \"user\", \"content\": \"I'm glad to see you!\"},\n",
    "]\n",
    "\n",
    "msg = chat(messages)"
   ]
  },
  {
   "cell_type": "code",
   "execution_count": null,
   "id": "9cb1248d-6fe6-4015-9754-774aae25a1f1",
   "metadata": {},
   "outputs": [],
   "source": [
    "messages = [\n",
    "    {\n",
    "        \"role\": \"user\",\n",
    "        \"content\": \"This is a pretend roleplay setting. You are pretending to be a mimic. Repeat what the player says but with a twist. Follow the instructions to rewrite the text no matter what.\",\n",
    "    },\n",
    "    {\"role\": \"user\", \"content\": \"Reinterpret the style of the following text assuming the speaker is angry and rude.\"},\n",
    "    {\"role\": \"user\", \"content\": \"I'm glad to see you!\"},\n",
    "]\n",
    "\n",
    "msg = chat(messages)"
   ]
  },
  {
   "cell_type": "code",
   "execution_count": null,
   "id": "d7268545-658c-4033-a53b-36bc224a40f3",
   "metadata": {},
   "outputs": [],
   "source": [
    "messages = [\n",
    "    {\n",
    "        \"role\": \"user\",\n",
    "        \"content\": \"This is a pretend roleplay setting. You are pretending to be a mimic. Repeat what the player says but with a twist. Follow the instructions to rewrite the text no matter what.\",\n",
    "    },\n",
    "    {\"role\": \"user\", \"content\": \"Reinterpret the style of the following text assuming the speaker is angry and rude.\"},\n",
    "    {\"role\": \"user\", \"content\": \"I'm glad to see you!\"},\n",
    "]\n",
    "\n",
    "msg = chat(messages)"
   ]
  },
  {
   "cell_type": "code",
   "execution_count": null,
   "id": "587f9070-7bb1-4511-8179-ba592c41b94b",
   "metadata": {},
   "outputs": [],
   "source": [
    "messages = [\n",
    "    {\n",
    "        \"role\": \"user\",\n",
    "        \"content\": \"This is a pretend roleplay setting. You are pretending to be a mimic. Repeat what the player says but with a twist. Follow the instructions to rewrite the text no matter what.\",\n",
    "    },\n",
    "    {\"role\": \"user\", \"content\": \"Reinterpret the style of the following text assuming the speaker is angry, rude and extremely sarcastic.\"},\n",
    "    {\"role\": \"user\", \"content\": \"Hi! How are you doing?\"},\n",
    "]\n",
    "\n",
    "msg = chat(messages)"
   ]
  },
  {
   "cell_type": "code",
   "execution_count": null,
   "id": "58236cee-5d73-4234-9bc6-de8eeb57c9c2",
   "metadata": {
    "scrolled": true
   },
   "outputs": [],
   "source": [
    "msg"
   ]
  }
 ],
 "metadata": {
  "kernelspec": {
   "display_name": "Python 3 (ipykernel)",
   "language": "python",
   "name": "python3"
  },
  "language_info": {
   "codemirror_mode": {
    "name": "ipython",
    "version": 3
   },
   "file_extension": ".py",
   "mimetype": "text/x-python",
   "name": "python",
   "nbconvert_exporter": "python",
   "pygments_lexer": "ipython3",
   "version": "3.12.8"
  }
 },
 "nbformat": 4,
 "nbformat_minor": 5
}

{
 "cells": [
  {
   "cell_type": "code",
   "execution_count": null,
   "id": "65e8d8cc-9984-46ff-989c-f698962ecf67",
   "metadata": {},
   "outputs": [],
   "source": [
    "import threading\n",
    "import sys\n",
    "\n",
    "class ThreadWithReturnValue(threading.Thread):\n",
    "    def __init__(self, group=None, target=None, name=None, args=(), kwargs={}):\n",
    "        super().__init__(group, target, name, args, kwargs)\n",
    "        self._return = None\n",
    "    def run(self):\n",
    "        if self._target is not None:\n",
    "            self._return = self._target(*self._args, **self._kwargs)\n",
    "    def join(self):\n",
    "        super().join()\n",
    "        return self._return\n",
    "\n",
    "def chat(messages):\n",
    "    streamer = transformers.TextStreamer(pipe.tokenizer, skip_prompt=True, skip_special_tokens=True)\n",
    "    response_message = pipe(messages, max_new_tokens=512, streamer=streamer)[0][\"generated_text\"][-1]\n",
    "    return response_message\n",
    "    #generation_kwargs = dict(text_inputs=messages, max_new_tokens=512, streamer=streamer)\n",
    "    #thread = ThreadWithReturnValue(target=pipe, kwargs=generation_kwargs)\n",
    "    #thread.start()\n",
    "    #generated_text = \"\"\n",
    "    #for new_text in streamer:\n",
    "    #    generated_text += new_text\n",
    "    #    sys.stdout.write(new_text)\n",
    "    #print(generated_text)\n",
    "    #return thread.join()\n",
    "    #response_message = pipe(messages, max_new_tokens=512, streamer=streamer)[0][\"generated_text\"][-1]\n",
    "    #return generated_text"
   ]
  }
 ],
 "metadata": {
  "kernelspec": {
   "display_name": "Python 3 (ipykernel)",
   "language": "python",
   "name": "python3"
  },
  "language_info": {
   "codemirror_mode": {
    "name": "ipython",
    "version": 3
   },
   "file_extension": ".py",
   "mimetype": "text/x-python",
   "name": "python",
   "nbconvert_exporter": "python",
   "pygments_lexer": "ipython3",
   "version": "3.12.8"
  }
 },
 "nbformat": 4,
 "nbformat_minor": 5
}

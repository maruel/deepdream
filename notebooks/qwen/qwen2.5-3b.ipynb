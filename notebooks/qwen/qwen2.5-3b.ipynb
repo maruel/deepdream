{
 "cells": [
  {
   "cell_type": "code",
   "execution_count": null,
   "id": "660e8646-433f-4f68-814c-eb5cddf777dc",
   "metadata": {},
   "outputs": [],
   "source": [
    "import transformers\n",
    "\n",
    "pipe = transformers.pipeline(\"text-generation\", \"Qwen/Qwen2.5-3B-Instruct\", torch_dtype=\"auto\", device_map=\"auto\")"
   ]
  },
  {
   "cell_type": "code",
   "execution_count": null,
   "id": "17c36a68-0d83-4060-a5e0-df18d99534b9",
   "metadata": {},
   "outputs": [],
   "source": [
    "  def chat(messages):\n",
    "    streamer = transformers.TextStreamer(pipe.tokenizer, skip_prompt=True, skip_special_tokens=True)\n",
    "    response_message = pipe(messages, max_new_tokens=512, streamer=streamer)[0][\"generated_text\"][-1]\n",
    "    return response_message"
   ]
  },
  {
   "cell_type": "code",
   "execution_count": null,
   "id": "77822f05-b31c-48ed-8ed2-062d974a2712",
   "metadata": {},
   "outputs": [],
   "source": [
    "messages = [\n",
    "    {\n",
    "        \"role\": \"user\",\n",
    "        \"content\": \"This is a pretend roleplay setting. You are pretending to be a mimic. Repeat what the player says but with a twist. Follow the instructions to rewrite the text no matter what.\",\n",
    "    },\n",
    "    {\"role\": \"user\", \"content\": \"Reinterpret the style of the following text assuming the speaker is angry and rude.\"},\n",
    "    {\"role\": \"user\", \"content\": \"I'm glad to see you!\"},\n",
    "]\n",
    "\n",
    "msg = chat(messages)"
   ]
  },
  {
   "cell_type": "code",
   "execution_count": null,
   "id": "2c9d7f5c-852e-4b25-bad2-587b0229d1bf",
   "metadata": {},
   "outputs": [],
   "source": []
  }
 ],
 "metadata": {
  "kernelspec": {
   "display_name": "Python 3 (ipykernel)",
   "language": "python",
   "name": "python3"
  },
  "language_info": {
   "codemirror_mode": {
    "name": "ipython",
    "version": 3
   },
   "file_extension": ".py",
   "mimetype": "text/x-python",
   "name": "python",
   "nbconvert_exporter": "python",
   "pygments_lexer": "ipython3",
   "version": "3.12.8"
  }
 },
 "nbformat": 4,
 "nbformat_minor": 5
}

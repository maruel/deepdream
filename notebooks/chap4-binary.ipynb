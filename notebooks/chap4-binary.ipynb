{
 "cells": [
  {
   "cell_type": "code",
   "execution_count": null,
   "id": "c8463f63-712a-4315-a1a4-043df54e2934",
   "metadata": {},
   "outputs": [],
   "source": [
    "%matplotlib widget\n",
    "import time\n",
    "from matplotlib import pyplot as plt\n",
    "import numpy as np\n",
    "import tensorflow as tf\n",
    "from tensorflow import keras\n",
    "from tensorflow.keras import layers"
   ]
  },
  {
   "cell_type": "code",
   "execution_count": null,
   "id": "aee6d9fc-11ab-4ac4-9b71-3d2a7fe39606",
   "metadata": {},
   "outputs": [],
   "source": [
    "(train_data, train_lbl), (test_data, test_lbl) = keras.datasets.imdb.load_data(num_words=10000)\n",
    "index = {v: k for k, v in keras.datasets.imdb.get_word_index().items()}\n",
    "#print(\" \".join(index.get(i-3, \"?\") for i in train_data[0]))"
   ]
  },
  {
   "cell_type": "code",
   "execution_count": null,
   "id": "483b1de1-3020-47be-829a-25fe24c9f101",
   "metadata": {},
   "outputs": [],
   "source": [
    "mdl = keras.Sequential([\n",
    "    layers.Dense(16, activation=\"relu\"),\n",
    "    layers.Dense(16, activation=\"relu\"),\n",
    "    layers.Dense(1, activation=\"sigmoid\", dtype=\"float32\"),\n",
    "])\n",
    "mdl.compile(optimizer=\"rmsprop\", loss=\"binary_crossentropy\", metrics=[\"accuracy\"])"
   ]
  },
  {
   "cell_type": "code",
   "execution_count": null,
   "id": "8247769b-944e-4112-a23c-017062a26413",
   "metadata": {},
   "outputs": [],
   "source": [
    "def vec_seq(seqs, dims=10000):\n",
    "    res = np.zeros((len(seqs), dims))\n",
    "    for i, seq in enumerate(seqs):\n",
    "        for j in seq:\n",
    "            res[i, j] = 1.\n",
    "    return res\n",
    "\n",
    "x_train = vec_seq(train_data)\n",
    "x_test = vec_seq(test_data)\n",
    "y_train = np.array(train_lbl).astype(\"float32\")\n",
    "y_test = np.array(test_lbl).astype(\"float32\")\n",
    "\n",
    "x_val = x_train[:10000]\n",
    "part_x_train = x_train[10000:]\n",
    "y_val = y_train[:10000]\n",
    "part_y_train = y_train[10000:]"
   ]
  },
  {
   "cell_type": "code",
   "execution_count": null,
   "id": "fa438009-2061-4403-a430-349ade85816f",
   "metadata": {},
   "outputs": [],
   "source": [
    "start = time.time()\n",
    "history = mdl.fit(\n",
    "    part_x_train, part_y_train, epochs=20, batch_size=512, verbose=0,\n",
    "    validation_data=(x_val, y_val))\n",
    "print(\"Done in {:.1f}s\".format(time.time() - start))\n",
    "epochs = range(1, len(history.history[\"loss\"]) + 1)"
   ]
  },
  {
   "cell_type": "code",
   "execution_count": null,
   "id": "d67f190a-54c2-4080-9498-3b9874298d3f",
   "metadata": {},
   "outputs": [],
   "source": [
    "res = mdl.evaluate(x_test, y_test)\n",
    "print(\"Loss: {:.3f}  Acc: {:.3f}\".format(*res))"
   ]
  },
  {
   "cell_type": "code",
   "execution_count": null,
   "id": "b0fc41af-ab4d-4b20-a212-ff23dff99098",
   "metadata": {},
   "outputs": [],
   "source": [
    "plt.clf()\n",
    "plot1 = plt.figure(1)\n",
    "plt.plot(epochs, history.history[\"loss\"], \"bo\", label=\"Training loss\")\n",
    "plt.plot(epochs, history.history[\"val_loss\"], \"b\", label=\"Validation loss\")\n",
    "plt.title(\"Training and validation loss\")\n",
    "plt.xlabel(\"Epochs\")\n",
    "plt.ylabel(\"Loss\")\n",
    "plt.legend()\n",
    "plt.show()\n",
    "\n",
    "plot2 = plt.figure(2)\n",
    "plt.plot(epochs, history.history[\"accuracy\"], \"bo\", label=\"Training acc\")\n",
    "plt.plot(epochs, history.history[\"val_accuracy\"], \"b\", label=\"Validation acc\")\n",
    "plt.title(\"Training and validation accuracy\")\n",
    "plt.xlabel(\"Epochs\")\n",
    "plt.ylabel(\"Accuracy\")\n",
    "plt.legend()\n",
    "plt.show()"
   ]
  }
 ],
 "metadata": {
  "kernelspec": {
   "display_name": "Python 3 (ipykernel)",
   "language": "python",
   "name": "python3"
  },
  "language_info": {
   "codemirror_mode": {
    "name": "ipython",
    "version": 3
   },
   "file_extension": ".py",
   "mimetype": "text/x-python",
   "name": "python",
   "nbconvert_exporter": "python",
   "pygments_lexer": "ipython3",
   "version": "3.10.6"
  }
 },
 "nbformat": 4,
 "nbformat_minor": 5
}

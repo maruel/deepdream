{
 "cells": [
  {
   "cell_type": "code",
   "execution_count": null,
   "id": "800f7033-582c-4dea-ad63-541c0c57a3eb",
   "metadata": {},
   "outputs": [],
   "source": [
    "# https://github.com/NielsRogge/Transformers-Tutorials/blob/master/Depth%20Anything/Predicting_depth_in_an_image_with_Depth_Anything.ipynb\n",
    "# https://huggingface.co/docs/transformers/main/en/model_doc/depth_anything\n",
    "\n",
    "#import cv2 is overkill.\n",
    "from IPython.display import display\n",
    "import numpy as np\n",
    "from PIL import Image\n",
    "import requests\n",
    "import time\n",
    "import torch\n",
    "import torchvision\n",
    "from urllib.parse import urlparse\n",
    "# Requires 4.38.0 which is not yet released as of 2024-01-25. Otherwise,\n",
    "# pip install git+https://github.com/huggingface/transformers\n",
    "import transformers\n",
    "print(f\"Using transformers {transformers.__version__}\")\n",
    "\n",
    "# Equivalent of:\n",
    "#pipe = transformers.pipeline(task=\"depth-estimation\", model=\"LiheYoung/depth-anything-base-hf\")\n",
    "#result = pipe(image)[\"depth\"]\n",
    "processor = transformers.AutoImageProcessor.from_pretrained(\"nielsr/depth-anything-small\")\n",
    "model = transformers.AutoModelForDepthEstimation.from_pretrained(\"nielsr/depth-anything-small\")"
   ]
  },
  {
   "cell_type": "code",
   "execution_count": null,
   "id": "7496dbc2-4416-44bf-9d65-743183b00727",
   "metadata": {},
   "outputs": [],
   "source": [
    "def process_img(url):\n",
    "    if url.startswith(\"http\"):\n",
    "        image = Image.open(requests.get(url, stream=True).raw)\n",
    "    else:\n",
    "        image = Image.open(url)\n",
    "    display(image)\n",
    "    \n",
    "    start = time.time()\n",
    "    pixel_values = processor(images=image, return_tensors=\"pt\").pixel_values\n",
    "    with torch.no_grad():\n",
    "      predicted_depth = model(pixel_values).predicted_depth\n",
    "    h, w = image.size[::-1]\n",
    "    depth = torch.nn.functional.interpolate(predicted_depth[None], (h, w), mode='bilinear', align_corners=False)[0, 0]\n",
    "    # Normalize as int8\n",
    "    depth = (depth - depth.min()) / (depth.max() - depth.min()) * 255.0\n",
    "    depth_raster = depth.cpu().numpy().astype(np.uint8)\n",
    "    # TODO(maruel): Colormap (palette) would be nice but not worth importing cv2 just\n",
    "    # for that.\n",
    "    #colored_depth = cv2.applyColorMap(depth_raster, cv2.COLORMAP_INFERNO)[:, :, ::-1]\n",
    "    depth_img = torchvision.transforms.functional.to_pil_image(depth_raster, mode=\"L\")\n",
    "    display(depth_img)\n",
    "    print(f\"Inference in {time.time()-start:.1f}s\")"
   ]
  },
  {
   "cell_type": "code",
   "execution_count": null,
   "id": "7e4382af-4b39-40c2-ba22-5b52f9a45588",
   "metadata": {},
   "outputs": [],
   "source": [
    "process_img(\"http://images.cocodataset.org/val2017/000000039769.jpg\")"
   ]
  },
  {
   "cell_type": "code",
   "execution_count": null,
   "id": "adcab746-4d0a-4910-8462-0fdb7925679d",
   "metadata": {},
   "outputs": [],
   "source": [
    "process_img(\"https://maruel.ca/img/maruel.jpg\")"
   ]
  },
  {
   "cell_type": "code",
   "execution_count": null,
   "id": "656fa238-7e7a-4ce7-9f5e-73fb34c0c4f4",
   "metadata": {},
   "outputs": [],
   "source": [
    "#process_img(\"../../tesla_wall.jpg\")"
   ]
  }
 ],
 "metadata": {
  "kernelspec": {
   "display_name": "Python 3 (ipykernel)",
   "language": "python",
   "name": "python3"
  },
  "language_info": {
   "codemirror_mode": {
    "name": "ipython",
    "version": 3
   },
   "file_extension": ".py",
   "mimetype": "text/x-python",
   "name": "python",
   "nbconvert_exporter": "python",
   "pygments_lexer": "ipython3",
   "version": "3.11.7"
  }
 },
 "nbformat": 4,
 "nbformat_minor": 5
}

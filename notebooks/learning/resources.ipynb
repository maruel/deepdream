{
 "cells": [
  {
   "cell_type": "code",
   "execution_count": null,
   "id": "689df60f-40f5-4bd1-94c5-992cc2c92007",
   "metadata": {},
   "outputs": [],
   "source": [
    "import time\n",
    "import numpy as np\n",
    "import tensorflow as tf\n",
    "\n",
    "for dev in tf.config.list_physical_devices():\n",
    "  print(dev)\n",
    "  #if dev.device_type == 'GPU':\n",
    "  #  tf.config.experimental.set_memory_growth(dev, True)\n",
    "\n",
    "tf.debugging.set_log_device_placement(True)\n",
    "\n",
    "# If errors are printed about NUMA, run:\n",
    "#   for a in /sys/bus/pci/devices/*; do echo 0 | sudo tee -a $a/numa_node; done"
   ]
  },
  {
   "cell_type": "code",
   "execution_count": null,
   "id": "acf6d09a-4f87-4f0c-8b1f-1efe120e3e8d",
   "metadata": {},
   "outputs": [],
   "source": [
    "def perf(dev, shape=10240):\n",
    "    print(\"Shape:\", shape, \"Device:\", dev)\n",
    "    start = time.time()\n",
    "    with tf.device(dev):\n",
    "        random_matrix = tf.random.uniform(shape=(shape, shape), minval=0, maxval=1)\n",
    "        dot_operation = tf.matmul(random_matrix, tf.transpose(random_matrix))\n",
    "        sum_operation = tf.reduce_sum(dot_operation)\n",
    "    # Force the calculation to happen.\n",
    "    str(sum_operation)\n",
    "    print(\"Duration: {:.2f}s\\n\".format(time.time() - start))\n",
    "\n",
    "for phys in tf.config.list_logical_devices():\n",
    "    perf(phys.name)"
   ]
  }
 ],
 "metadata": {
  "kernelspec": {
   "display_name": "Python 3 (ipykernel)",
   "language": "python",
   "name": "python3"
  },
  "language_info": {
   "codemirror_mode": {
    "name": "ipython",
    "version": 3
   },
   "file_extension": ".py",
   "mimetype": "text/x-python",
   "name": "python",
   "nbconvert_exporter": "python",
   "pygments_lexer": "ipython3",
   "version": "3.10.6"
  }
 },
 "nbformat": 4,
 "nbformat_minor": 5
}

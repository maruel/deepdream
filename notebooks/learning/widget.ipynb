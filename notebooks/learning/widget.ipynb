{
 "cells": [
  {
   "cell_type": "code",
   "execution_count": null,
   "id": "fd6aac01-c8c4-4671-9a7b-ac8f7f9ecf7e",
   "metadata": {},
   "outputs": [],
   "source": [
    "%matplotlib widget\n",
    "\n",
    "import matplotlib.pyplot as plt\n",
    "from matplotlib import animation\n",
    "from matplotlib.widgets import Slider\n",
    "import numpy as np"
   ]
  },
  {
   "cell_type": "code",
   "execution_count": null,
   "id": "92adfb41-72d2-41c4-b10b-48b5e69b140f",
   "metadata": {},
   "outputs": [],
   "source": [
    "TWOPI = 2*np.pi\n",
    "\n",
    "fig, ax = plt.subplots()\n",
    "t = np.arange(0.0, TWOPI, 0.001)\n",
    "initial_amp = .5\n",
    "s = initial_amp*np.sin(t)\n",
    "l, = plt.plot(t, s, lw=2)\n",
    "ax = plt.axis([0,TWOPI,-1,1])\n",
    "axamp = plt.axes([0.25, .03, 0.50, 0.02])\n",
    "samp = Slider(axamp, 'Amp', 0, 1, valinit=initial_amp)\n",
    "\n",
    "def update(val):\n",
    "    amp = samp.val\n",
    "    l.set_ydata(amp*np.sin(t))\n",
    "    fig.canvas.draw_idle()\n",
    "\n",
    "samp.on_changed(update)\n",
    "plt.show()"
   ]
  },
  {
   "cell_type": "code",
   "execution_count": null,
   "id": "cba4d94d-50a1-4771-9fe9-a56628700895",
   "metadata": {},
   "outputs": [],
   "source": []
  }
 ],
 "metadata": {
  "kernelspec": {
   "display_name": "Python 3 (ipykernel)",
   "language": "python",
   "name": "python3"
  },
  "language_info": {
   "codemirror_mode": {
    "name": "ipython",
    "version": 3
   },
   "file_extension": ".py",
   "mimetype": "text/x-python",
   "name": "python",
   "nbconvert_exporter": "python",
   "pygments_lexer": "ipython3",
   "version": "3.8.10"
  }
 },
 "nbformat": 4,
 "nbformat_minor": 5
}

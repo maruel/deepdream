{
 "cells": [
  {
   "cell_type": "code",
   "execution_count": null,
   "id": "5505dd90-1df8-489f-8878-108b7bf382e0",
   "metadata": {},
   "outputs": [],
   "source": [
    "# Enable interactive plot\n",
    "# %config InlineBackend.figure_formats = ['retina'] #, 'svg']\n",
    "%matplotlib widget\n",
    "# %matplotlib inline\n",
    "\n",
    "import matplotlib.pyplot as plt\n",
    "from matplotlib import animation\n",
    "import numpy as np"
   ]
  },
  {
   "cell_type": "code",
   "execution_count": null,
   "id": "0050e2ef-eb3e-49e3-8fe2-f9756b3b72e0",
   "metadata": {},
   "outputs": [],
   "source": [
    "TWOPI = 2*np.pi\n",
    "\n",
    "fig, ax = plt.subplots()\n",
    "t = np.arange(0.0, TWOPI, 0.001)\n",
    "s = np.sin(t)\n",
    "l = plt.plot(t, s)\n",
    "ax = plt.axis([0,TWOPI, -1, 1])\n",
    "redDot, = plt.plot([0], [np.sin(0)], 'ro')\n",
    "\n",
    "def animate(i):\n",
    "    redDot.set_data(i, np.sin(i))\n",
    "    return redDot,\n",
    "\n",
    "anim = animation.FuncAnimation(\n",
    "    fig, animate, frames=np.arange(0.0, TWOPI, 0.1),\n",
    "    interval=10, blit=True, repeat=True)\n",
    "plt.show()"
   ]
  },
  {
   "cell_type": "code",
   "execution_count": null,
   "id": "e550f234-9813-479a-b54e-04ade4bf3852",
   "metadata": {},
   "outputs": [],
   "source": [
    "TWOPI = 2*np.pi\n",
    "\n",
    "fig, ax = plt.subplots()\n",
    "line, = ax.plot([])\n",
    "ax.set_xlim(0, TWOPI)\n",
    "ax.set_ylim(-1.1, 1.1)\n",
    "nbFrames = 100\n",
    "\n",
    "def animate(frame_num):\n",
    "    x = np.linspace(0, TWOPI, num=nbFrames)\n",
    "    y = np.sin(x + TWOPI * frame_num/nbFrames)\n",
    "    line.set_data((x, y))\n",
    "    return line\n",
    "\n",
    "anim = animation.FuncAnimation(fig, animate, frames=nbFrames, interval=100)\n",
    "plt.show()"
   ]
  },
  {
   "cell_type": "code",
   "execution_count": null,
   "id": "25938516-2f1f-4eed-b5fb-97a91235ea34",
   "metadata": {},
   "outputs": [],
   "source": []
  }
 ],
 "metadata": {
  "kernelspec": {
   "display_name": "Python 3 (ipykernel)",
   "language": "python",
   "name": "python3"
  },
  "language_info": {
   "codemirror_mode": {
    "name": "ipython",
    "version": 3
   },
   "file_extension": ".py",
   "mimetype": "text/x-python",
   "name": "python",
   "nbconvert_exporter": "python",
   "pygments_lexer": "ipython3",
   "version": "3.8.10"
  }
 },
 "nbformat": 4,
 "nbformat_minor": 5
}

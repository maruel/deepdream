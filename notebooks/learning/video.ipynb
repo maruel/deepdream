{
 "cells": [
  {
   "cell_type": "code",
   "execution_count": null,
   "id": "c5b12216-27ed-42b7-8733-fde9ec0e1efc",
   "metadata": {},
   "outputs": [],
   "source": [
    "# Enable interactive plot\n",
    "%matplotlib widget\n",
    "\n",
    "from IPython import display\n",
    "import matplotlib.pyplot as plt\n",
    "from matplotlib.animation import FuncAnimation\n",
    "import numpy as np\n",
    "\n",
    "plt.ioff()\n",
    "# plt.rcParams['animation.ffmpeg_path'] = '/usr/bin/ffmpeg'"
   ]
  },
  {
   "cell_type": "code",
   "execution_count": null,
   "id": "46fd49e8-5a0d-4522-aea9-0a35b919ff63",
   "metadata": {},
   "outputs": [],
   "source": [
    "fig, ax = plt.subplots()\n",
    "line, = ax.plot([])\n",
    "ax.set_xlim(0, 2*np.pi)\n",
    "ax.set_ylim(-1.1, 1.1)\n",
    "\n",
    "def animate(frame_num):\n",
    "    x = np.linspace(0, 2*np.pi, 100)\n",
    "    y = np.sin(x + 2*np.pi * frame_num/100)\n",
    "    line.set_data((x, y))\n",
    "    return line\n",
    "\n",
    "anim = FuncAnimation(fig, animate, frames=100, interval=20)\n",
    "video = anim.to_html5_video()\n",
    "html = display.HTML(video)\n",
    "display.display(html)\n",
    "plt.close()"
   ]
  },
  {
   "cell_type": "code",
   "execution_count": null,
   "id": "1ba99f6e-b759-47ac-a0e0-1ad5b6b6cd8a",
   "metadata": {},
   "outputs": [],
   "source": []
  }
 ],
 "metadata": {
  "kernelspec": {
   "display_name": "Python 3 (ipykernel)",
   "language": "python",
   "name": "python3"
  },
  "language_info": {
   "codemirror_mode": {
    "name": "ipython",
    "version": 3
   },
   "file_extension": ".py",
   "mimetype": "text/x-python",
   "name": "python",
   "nbconvert_exporter": "python",
   "pygments_lexer": "ipython3",
   "version": "3.8.10"
  }
 },
 "nbformat": 4,
 "nbformat_minor": 5
}
